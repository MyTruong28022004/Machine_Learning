{
 "cells": [
  {
   "cell_type": "markdown",
   "id": "3d92dd06",
   "metadata": {},
   "source": [
    "# **NHẬP MÔN HỌC MÁY**\n",
    "## **PHASE 1**\n",
    "### Lớp: CQ2022/24\n",
    "### Họ và tên: Nguyễn Phạm Tú Uyên\n",
    "### MSSV: 22120422\n",
    "---"
   ]
  },
  {
   "cell_type": "markdown",
   "id": "673a7877",
   "metadata": {},
   "source": [
    "### Import"
   ]
  },
  {
   "cell_type": "code",
   "execution_count": 1,
   "id": "0262abbe",
   "metadata": {},
   "outputs": [],
   "source": [
    "# import các thư viện cần thiết\n",
    "import numpy as np \n",
    "import json\n",
    "import matplotlib.pyplot as plt\n",
    "\n",
    "from sklearn.model_selection import train_test_split, GridSearchCV\n",
    "from sklearn.preprocessing import StandardScaler\n",
    "from sklearn.svm import SVC\n",
    "from sklearn.linear_model import LogisticRegression\n",
    "from sklearn.neighbors import KNeighborsClassifier\n",
    "from sklearn.ensemble import RandomForestClassifier, GradientBoostingClassifier, ExtraTreesClassifier, AdaBoostClassifier, BaggingClassifier,  VotingClassifier\n",
    "from sklearn.pipeline import Pipeline\n",
    "from sklearn.metrics import roc_auc_score, accuracy_score"
   ]
  },
  {
   "cell_type": "code",
   "execution_count": 2,
   "id": "3831aafd",
   "metadata": {},
   "outputs": [],
   "source": [
    "# Tắt các cảnh báo không cần thiết\n",
    "import warnings\n",
    "warnings.filterwarnings('ignore')"
   ]
  },
  {
   "cell_type": "markdown",
   "id": "f218dd79",
   "metadata": {},
   "source": [
    "### Đọc dữ liệu"
   ]
  },
  {
   "cell_type": "markdown",
   "id": "d04799fd",
   "metadata": {},
   "source": [
    "Hàm đọc dữ liệu từ file json"
   ]
  },
  {
   "cell_type": "code",
   "execution_count": 3,
   "id": "f490a48d",
   "metadata": {},
   "outputs": [],
   "source": [
    "def load_data(json_path, is_train=True):\n",
    "    '''(str, bool) -> list\n",
    "    Hàm này đọc dữ liệu từ file json và trả về một list các dictionary.\n",
    "    Mỗi dictionary chứa các thông tin sau:\n",
    "    - vid_id: id của video\n",
    "    - start_time: thời gian bắt đầu của clip trong video\n",
    "    - end_time: thời gian kết thúc của clip trong video\n",
    "    - audio_embedding: numpy array chứa các đặc trưng âm thanh của clip\n",
    "    - is_turkey: nhãn cho bài toán phân loại (nếu là train)\n",
    "\n",
    "    Tham số\n",
    "    -------\n",
    "    json_path: đường dẫn đến file json chứa dữ liệu\n",
    "    is_train: True nếu là dữ liệu train, False nếu là dữ liệu test\n",
    "    '''\n",
    "\n",
    "    with open(json_path, 'r') as f:\n",
    "        data = json.load(f)\n",
    "    \n",
    "    # Mỗi mục là một dictionary chứa vid_id, start, end, audio_embedding, is_turkey nếu là tập train\n",
    "    records = []\n",
    "\n",
    "    for item in data:\n",
    "\n",
    "        # audio_embedding là một list list 128 chiều, ta chuyển thành numpy array\n",
    "        embedding = np.array(item['audio_embedding'])  # shape: (frames, 128)\n",
    "        \n",
    "        record = {\n",
    "            'vid_id': item['vid_id'],\n",
    "            'start_time': item['start_time_seconds_youtube_clip'],\n",
    "            'end_time': item['end_time_seconds_youtube_clip'],\n",
    "            'audio_embedding': embedding\n",
    "        }\n",
    "        \n",
    "        if is_train:\n",
    "            record['is_turkey'] = item['is_turkey']\n",
    "        \n",
    "        records.append(record)\n",
    "    \n",
    "    return records"
   ]
  },
  {
   "cell_type": "markdown",
   "id": "368309e6",
   "metadata": {},
   "source": [
    "Đọc dữ liệu từ file json"
   ]
  },
  {
   "cell_type": "code",
   "execution_count": 4,
   "id": "a034c933",
   "metadata": {},
   "outputs": [
    {
     "name": "stdout",
     "output_type": "stream",
     "text": [
      "Train samples: 1195\n"
     ]
    }
   ],
   "source": [
    "# Đọc dữ liệu train\n",
    "train_data = load_data('./data/train.json', is_train=True)\n",
    "print(f\"Train samples: {len(train_data)}\")"
   ]
  },
  {
   "cell_type": "markdown",
   "id": "4089edee",
   "metadata": {},
   "source": [
    "### **I. Phát triển mô hình**"
   ]
  },
  {
   "cell_type": "markdown",
   "id": "aed2e1a0",
   "metadata": {},
   "source": [
    "#### 1. Chuẩn bị dữ liệu"
   ]
  },
  {
   "cell_type": "markdown",
   "id": "0ed0e976",
   "metadata": {},
   "source": [
    "Hàm trích đặc trưng trung bình embedding cho danh sách samples."
   ]
  },
  {
   "cell_type": "code",
   "execution_count": 5,
   "id": "56aaaf89",
   "metadata": {},
   "outputs": [],
   "source": [
    "def extract_features_labels(records):\n",
    "    '''(list) -> tuple\n",
    "    Trả về một tuple gồm hai phần:\n",
    "    - X: numpy array chứa các đặc trưng âm thanh của các clip\n",
    "    - y: numpy array chứa nhãn cho các clip (nếu có)\n",
    "    Mỗi clip được biểu diễn bằng một numpy array 128 chiều, là trung bình của các đặc trưng âm thanh trong khoảng thời gian clip.\n",
    "    Tham số\n",
    "    -------\n",
    "    records: list các dictionary chứa thông tin về các clip\n",
    "    '''\n",
    "    X = []\n",
    "    y = []\n",
    "    for r in records:\n",
    "        avg_emb = r['audio_embedding'].mean(axis=0)\n",
    "        X.append(avg_emb)\n",
    "        if 'is_turkey' in r:\n",
    "            y.append(r['is_turkey'])\n",
    "    return np.stack(X), np.array(y)\n",
    "\n",
    "# def extract_features_labels(records):\n",
    "#     X = []\n",
    "#     y = []\n",
    "#     for r in records:\n",
    "#         emb = r['audio_embedding']\n",
    "#         mean_emb = emb.mean(axis=0)\n",
    "#         max_emb = emb.max(axis=0)\n",
    "#         std_emb = emb.std(axis=0)\n",
    "#         features = np.concatenate([mean_emb, max_emb, std_emb])\n",
    "#         X.append(features)\n",
    "#         if 'is_turkey' in r:\n",
    "#             y.append(r['is_turkey'])\n",
    "#     return np.stack(X), np.array(y)"
   ]
  },
  {
   "cell_type": "markdown",
   "id": "00c924af",
   "metadata": {},
   "source": [
    "Chia tập train thành 3 phần train, validation và test (chọn tỉ lệ 70:15:15 vì dữ liệu cũng khá ít nên cho train nhiều dữ liệu để học hơn)"
   ]
  },
  {
   "cell_type": "code",
   "execution_count": 6,
   "id": "870be473",
   "metadata": {},
   "outputs": [
    {
     "name": "stdout",
     "output_type": "stream",
     "text": [
      "Train size: 835\n",
      "Valid size: 180\n",
      "Test size: 180\n"
     ]
    }
   ],
   "source": [
    "X, y = extract_features_labels(train_data)\n",
    "\n",
    "# Chia train+val và test trước\n",
    "X_temp, X_test, y_temp, y_test = train_test_split(\n",
    "    X, y, test_size=0.15, random_state=42, stratify=y\n",
    ")\n",
    "# Chia tiếp train và val từ X_temp\n",
    "X_train, X_valid, y_train, y_valid = train_test_split(\n",
    "    X_temp, y_temp, test_size=0.1765, random_state=42, stratify=y_temp\n",
    ")\n",
    "\n",
    "print(\"Train size:\", X_train.shape[0])\n",
    "print(\"Valid size:\", X_valid.shape[0])\n",
    "print(\"Test size:\", X_test.shape[0])"
   ]
  },
  {
   "cell_type": "markdown",
   "id": "9061f229",
   "metadata": {},
   "source": [
    "#### 2. Huấn luyện mô hình\n",
    "Trong bước này, thử nghiệm với 8 mô hình để xây dựng một **baseline model**. Mục tiêu là đánh giá nhanh hiệu suất của các mô hình khác nhau và tìm ra những mô hình có hiệu quả tốt nhất đối với dữ liệu. Sau đó, chọn ra một số mô hình tốt nhất để tiếp tục tối ưu. Các mô hình này được đánh giá trên tập valid với chỉ số **AUC** và được chọn dựa trên gợi ý ở [machine_learning_map](https://scikit-learn.org/stable/machine_learning_map.html) (Linear SVC -> KNeighbors Classifier -> SVC, Ensemble Classifiers)."
   ]
  },
  {
   "cell_type": "code",
   "execution_count": 7,
   "id": "b5bd8641",
   "metadata": {},
   "outputs": [],
   "source": [
    "# Danh sách các mô hình sẽ thử nghiệm\n",
    "models = {\n",
    "    'K-Nearest Neighbors' : KNeighborsClassifier(),\n",
    "    'Support Vector Machine' : SVC(probability=True, random_state=42),\n",
    "    'Logistic Regression' : LogisticRegression(random_state=42, max_iter=1000),\n",
    "    'Random Forest' : RandomForestClassifier(random_state=42),\n",
    "    'Gradient Boosting' : GradientBoostingClassifier(random_state=42),\n",
    "    'Extra Trees': ExtraTreesClassifier(random_state=42),\n",
    "    'AdaBoost' : AdaBoostClassifier(random_state=42, algorithm='SAMME'),\n",
    "    'Bagging' :  BaggingClassifier(random_state=42)\n",
    "}"
   ]
  },
  {
   "cell_type": "markdown",
   "id": "c44ae007",
   "metadata": {},
   "source": [
    "Hàm huấn luyện các mô hình trên tập train"
   ]
  },
  {
   "cell_type": "code",
   "execution_count": 8,
   "id": "86f1a01d",
   "metadata": {},
   "outputs": [],
   "source": [
    "def train_models(models, X_train, y_train):\n",
    "    trained_models = {}\n",
    "    for name, model in models.items():\n",
    "        pipeline = Pipeline([\n",
    "            ('scaler', StandardScaler()),\n",
    "            ('clf', model)\n",
    "        ])\n",
    "        pipeline.fit(X_train, y_train)\n",
    "        trained_models[name] = pipeline\n",
    "\n",
    "    return trained_models"
   ]
  },
  {
   "cell_type": "markdown",
   "id": "b628ecff",
   "metadata": {},
   "source": [
    "Huấn luyện"
   ]
  },
  {
   "cell_type": "code",
   "execution_count": 9,
   "id": "57b853b9",
   "metadata": {},
   "outputs": [],
   "source": [
    "trained_models = train_models(models, X_train, y_train)"
   ]
  },
  {
   "cell_type": "markdown",
   "id": "68185d2b",
   "metadata": {},
   "source": [
    "Đánh giá mô hình trên tập valid để chọn ra 3 mô hình tốt nhất"
   ]
  },
  {
   "cell_type": "markdown",
   "id": "a0ea0276",
   "metadata": {},
   "source": [
    "Hàm dự đoán xác suất từ các mô hình đã train"
   ]
  },
  {
   "cell_type": "code",
   "execution_count": 10,
   "id": "f62998f4",
   "metadata": {},
   "outputs": [],
   "source": [
    "def predict_proba_models(trained_models, X_valid):\n",
    "    results = {}\n",
    "    for name, pipeline in trained_models.items():\n",
    "        y_proba = pipeline.predict_proba(X_valid)[:, 1]\n",
    "        results[name] = y_proba\n",
    "    return results"
   ]
  },
  {
   "cell_type": "markdown",
   "id": "9db5cc61",
   "metadata": {},
   "source": [
    "Dự đoán"
   ]
  },
  {
   "cell_type": "code",
   "execution_count": 11,
   "id": "5c9f8d40",
   "metadata": {},
   "outputs": [],
   "source": [
    "results = predict_proba_models(trained_models, X_valid)"
   ]
  },
  {
   "cell_type": "markdown",
   "id": "607bbe4b",
   "metadata": {},
   "source": [
    "Đánh giá các mô hình trên tập valid"
   ]
  },
  {
   "cell_type": "code",
   "execution_count": 12,
   "id": "58979c03",
   "metadata": {},
   "outputs": [
    {
     "name": "stdout",
     "output_type": "stream",
     "text": [
      "Extra Trees ROC AUC on validation: 0.9881\n",
      "Logistic Regression ROC AUC on validation: 0.9873\n",
      "Random Forest ROC AUC on validation: 0.9872\n",
      "K-Nearest Neighbors ROC AUC on validation: 0.9872\n",
      "Support Vector Machine ROC AUC on validation: 0.9867\n",
      "AdaBoost ROC AUC on validation: 0.9856\n",
      "Gradient Boosting ROC AUC on validation: 0.9842\n",
      "Bagging ROC AUC on validation: 0.9762\n"
     ]
    }
   ],
   "source": [
    "auc_scores = {}\n",
    "for name, y_proba in results.items():\n",
    "    auc = roc_auc_score(y_valid, y_proba)\n",
    "    auc_scores[name] = auc\n",
    "\n",
    "# In theo thứ tự giảm dần\n",
    "sorted_auc = sorted(auc_scores.items(), key=lambda x: x[1], reverse=True)\n",
    "for name, auc in sorted_auc:\n",
    "    print(f'{name} ROC AUC on validation: {auc:.4f}')"
   ]
  },
  {
   "cell_type": "code",
   "execution_count": 13,
   "id": "56914f1d",
   "metadata": {},
   "outputs": [
    {
     "data": {
      "image/png": "[encoded data removed]",
      "text/plain": [
       "<Figure size 1000x600 with 1 Axes>"
      ]
     },
     "metadata": {},
     "output_type": "display_data"
    }
   ],
   "source": [
    "# Bar chart AUC\n",
    "names = [name for name, _ in sorted_auc]\n",
    "auc_values = [auc for _, auc in sorted_auc]\n",
    "\n",
    "plt.figure(figsize=(10, 6))\n",
    "plt.barh(names[::-1], auc_values[::-1], color='#1f77b4')  \n",
    "plt.xlim(0.9, 1.0) \n",
    "plt.xlabel('ROC AUC Score')\n",
    "plt.title('Validation AUC Scores by Model')\n",
    "plt.grid(axis='x')\n",
    "plt.tight_layout()\n",
    "plt.show()"
   ]
  },
  {
   "cell_type": "markdown",
   "id": "f3ca2fe2",
   "metadata": {},
   "source": [
    "Chọn 5 mô hình là ExtraTrees, LogisticRegression, Random Forest, K-Nearest Neighbors, Support Vector Machine."
   ]
  },
  {
   "cell_type": "markdown",
   "id": "76972e57",
   "metadata": {},
   "source": [
    "#### 3. Tinh chỉnh siêu tham số"
   ]
  },
  {
   "cell_type": "code",
   "execution_count": 14,
   "id": "0bd5b812",
   "metadata": {},
   "outputs": [
    {
     "name": "stdout",
     "output_type": "stream",
     "text": [
      "ExtraTrees best params: {'max_depth': None, 'min_samples_leaf': 2, 'min_samples_split': 5, 'n_estimators': 400}\n",
      "ExtraTrees best CV AUC: 0.9865058012664882\n",
      "SVM best params: {'C': 1, 'gamma': 'auto', 'kernel': 'rbf'}\n",
      "SVM best CV AUC: 0.9841113784117071\n",
      "LogisticRegression best params: {'C': 0.1, 'max_iter': 1000, 'penalty': 'l2', 'solver': 'lbfgs'}\n",
      "LogisticRegression best CV AUC: 0.9866878767317203\n",
      "RandomForest best params: {'max_depth': 10, 'min_samples_leaf': 1, 'min_samples_split': 10, 'n_estimators': 200}\n",
      "RandomForest best CV AUC: 0.9850222038749624\n",
      "KNeighbors best params: {'metric': 'manhattan', 'n_neighbors': 9, 'p': 1, 'weights': 'uniform'}\n",
      "KNeighbors best CV AUC: 0.9689585188489099\n"
     ]
    }
   ],
   "source": [
    "# Chuẩn hóa dữ liệu\n",
    "scaler = StandardScaler()\n",
    "X_train_scaled = scaler.fit_transform(X_train)  \n",
    "X_valid_scaled = scaler.transform(X_valid)            \n",
    "X_test_scaled = scaler.transform(X_test)              \n",
    "\n",
    "# 1. ExtraTreesClassifier tuning\n",
    "param_grid_et = {\n",
    "    'n_estimators': [100, 200, 400],\n",
    "    'max_depth': [None, 10, 20, 40],\n",
    "    'min_samples_split': [2, 5, 10],\n",
    "    'min_samples_leaf': [1, 2, 4] \n",
    "}\n",
    "\n",
    "et = ExtraTreesClassifier(random_state=42)\n",
    "grid_et = GridSearchCV(et, param_grid_et, cv=5, scoring='roc_auc', n_jobs=-1)\n",
    "grid_et.fit(X_train_scaled, y_train)\n",
    "print(\"ExtraTrees best params:\", grid_et.best_params_)\n",
    "print(\"ExtraTrees best CV AUC:\", grid_et.best_score_)\n",
    "\n",
    "# 2. SVM tuning\n",
    "param_grid_svm = {\n",
    "    'C': [0.1, 1, 10, 100],\n",
    "    'kernel': ['linear', 'rbf'],\n",
    "    'gamma': ['scale', 'auto']\n",
    "}\n",
    "\n",
    "svm = SVC(probability=True, random_state=42)\n",
    "grid_svm = GridSearchCV(svm, param_grid_svm, cv=5, scoring='roc_auc', n_jobs=-1)\n",
    "grid_svm.fit(X_train_scaled, y_train)\n",
    "print(\"SVM best params:\", grid_svm.best_params_)\n",
    "print(\"SVM best CV AUC:\", grid_svm.best_score_)\n",
    "\n",
    "# 3. LogisticRegression tuning\n",
    "param_grid_lr = {\n",
    "    'C': [0.01, 0.1, 1, 10, 100],\n",
    "    'penalty': ['l2'],  # 'l1' requires solver='liblinear' or 'saga', nếu muốn bạn có thể thử thêm\n",
    "    'solver': ['lbfgs'],\n",
    "    'max_iter': [1000]\n",
    "}\n",
    "\n",
    "lr = LogisticRegression(random_state=42)\n",
    "grid_lr = GridSearchCV(lr, param_grid_lr, cv=5, scoring='roc_auc', n_jobs=-1)\n",
    "grid_lr.fit(X_train_scaled, y_train)\n",
    "print(\"LogisticRegression best params:\", grid_lr.best_params_)\n",
    "print(\"LogisticRegression best CV AUC:\", grid_lr.best_score_)\n",
    "\n",
    "# 4. RandomForestClassifier tuning\n",
    "param_grid_rf = {\n",
    "    'n_estimators': [100, 200, 400],\n",
    "    'max_depth': [None, 10, 20, 40],\n",
    "    'min_samples_split': [2, 5, 10],\n",
    "    'min_samples_leaf': [1, 2, 4] \n",
    "}\n",
    "rf = RandomForestClassifier(random_state=42)\n",
    "grid_rf = GridSearchCV(rf, param_grid_rf, cv=5, scoring='roc_auc', n_jobs=-1)\n",
    "grid_rf.fit(X_train_scaled, y_train)\n",
    "print(\"RandomForest best params:\", grid_rf.best_params_)\n",
    "print(\"RandomForest best CV AUC:\", grid_rf.best_score_)\n",
    "\n",
    "# 5. KNeighborsClassifier tuning\n",
    "param_grid_knn = {\n",
    "    'n_neighbors': [3, 5, 7, 9],\n",
    "    'weights': ['uniform', 'distance'],\n",
    "    'metric': ['euclidean', 'manhattan'],\n",
    "    'p': [1, 2]\n",
    "}\n",
    "knn = KNeighborsClassifier()\n",
    "grid_knn = GridSearchCV(knn, param_grid_knn, cv=5, scoring='roc_auc', n_jobs=-1)  \n",
    "grid_knn.fit(X_train_scaled, y_train)\n",
    "print(\"KNeighbors best params:\", grid_knn.best_params_)\n",
    "print(\"KNeighbors best CV AUC:\", grid_knn.best_score_)"
   ]
  },
  {
   "cell_type": "markdown",
   "id": "b060a825",
   "metadata": {},
   "source": [
    "#### 4. Đánh giá trên valid để chọn mô hình tốt nhất và huấn luyện lại mô hình trên train và test."
   ]
  },
  {
   "cell_type": "code",
   "execution_count": 15,
   "id": "6750a421",
   "metadata": {},
   "outputs": [
    {
     "name": "stdout",
     "output_type": "stream",
     "text": [
      "Model                ROC AUC    Accuracy  \n",
      "LogisticRegression   0.9902     0.9667\n",
      "RandomForest         0.9888     0.9500\n",
      "ExtraTrees           0.9874     0.9500\n",
      "SVM                  0.9867     0.9611\n",
      "KNeighbors           0.9850     0.9444\n"
     ]
    },
    {
     "data": {
      "image/png": "[encoded data removed]",
      "text/plain": [
       "<Figure size 1400x600 with 2 Axes>"
      ]
     },
     "metadata": {},
     "output_type": "display_data"
    }
   ],
   "source": [
    "models_best = {\n",
    "    'ExtraTrees': grid_et.best_estimator_,\n",
    "    'SVM': grid_svm.best_estimator_,\n",
    "    'LogisticRegression': grid_lr.best_estimator_,\n",
    "    'RandomForest': grid_rf.best_estimator_,\n",
    "    'KNeighbors': grid_knn.best_estimator_,\n",
    "}\n",
    "\n",
    "auc_scores = {}\n",
    "acc_scores = {}\n",
    "\n",
    "for name, model in models_best.items():\n",
    "    # Dự đoán xác suất và nhãn\n",
    "    y_prob = model.predict_proba(X_valid_scaled)[:, 1]\n",
    "    y_pred = model.predict(X_valid_scaled)\n",
    "\n",
    "    auc_scores[name] = roc_auc_score(y_valid, y_prob) # Tính ROC AUC\n",
    "    acc_scores[name] = accuracy_score(y_valid, y_pred) # Tính Accuracy\n",
    "\n",
    "# Sắp xếp cho ROC AUC\n",
    "sorted_auc = sorted(auc_scores.items(), key=lambda x: x[1], reverse=True)\n",
    "sorted_names_auc = [name for name, _ in sorted_auc]\n",
    "auc_values = [auc_scores[name] for name in sorted_names_auc]\n",
    "\n",
    "# Sắp xếp cho Accuracy\n",
    "sorted_acc = sorted(acc_scores.items(), key=lambda x: x[1], reverse=True)\n",
    "sorted_names_acc = [name for name, _ in sorted_acc]\n",
    "acc_values = [acc_scores[name] for name in sorted_names_acc]\n",
    "\n",
    "# In kết quả\n",
    "print(f\"{'Model':<20} {'ROC AUC':<10} {'Accuracy':<10}\")\n",
    "for name, auc in sorted_auc:\n",
    "    print(f\"{name:<20} {auc:.4f}     {acc_scores[name]:.4f}\")\n",
    "\n",
    "# Trực quan hóa kết quả\n",
    "fig, axs = plt.subplots(1, 2, figsize=(14, 6))\n",
    "\n",
    "# ROC AUC chart\n",
    "axs[0].barh(sorted_names_auc[::-1], auc_values[::-1], color='#1f77b4')\n",
    "axs[0].set_xlim(0.9, 1.0)\n",
    "axs[0].set_title('Validation ROC AUC Scores')\n",
    "axs[0].set_xlabel('ROC AUC Score')\n",
    "axs[0].grid(axis='x')\n",
    "\n",
    "# Accuracy chart\n",
    "axs[1].barh(sorted_names_acc[::-1], acc_values[::-1], color='green')\n",
    "axs[1].set_xlim(0.9, 1.0)\n",
    "axs[1].set_title('Validation Accuracy Scores')\n",
    "axs[1].set_xlabel('Accuracy')\n",
    "axs[1].grid(axis='x')\n",
    "\n",
    "plt.tight_layout()\n",
    "plt.show()"
   ]
  },
  {
   "cell_type": "markdown",
   "id": "a35d311f",
   "metadata": {},
   "source": [
    "- Logistic Regression là mô hình tốt nhất với ROC AUC = 0.9902 và Accuracy = 0.9667 cho thấy nó rất mạnh trong việc phân biệt giữa hai lớp.\n",
    "\n",
    "- SVM tuy có ROC AUC thấp hơn một chút (0.9867) nhưng lại có accuracy khá cao (0.9611) gần bằng Logistic.\n",
    "\n",
    "- Random Forest và Extra Trees có AUC tốt nhưng accuracy thấp hơn cho thấy có thể dự đoán xác suất tốt nhưng phân loại nhãn chưa thật sự tối ưu.\n",
    "\n",
    "- KNN kém nhất cả về AUC lẫn accuracy."
   ]
  },
  {
   "cell_type": "markdown",
   "id": "3b1cbfe0",
   "metadata": {},
   "source": [
    "Vì Logistic Regression đạt cả ROC AUC và Accuracy cao, trong khi SVM có độ chính xác gần tương đương nhưng quyết định phân loại có phần khác biệt. Do đó, ta thử kết hợp 2 mô hình này lại và đánh giá trên tập valid, xem xét xem kết quả có tốt hơn không."
   ]
  },
  {
   "cell_type": "code",
   "execution_count": 16,
   "id": "2388f0d4",
   "metadata": {},
   "outputs": [
    {
     "name": "stdout",
     "output_type": "stream",
     "text": [
      "Ensemble Accuracy: 0.9722222222222222\n",
      "Ensemble ROC AUC: 0.9908210096889342\n"
     ]
    }
   ],
   "source": [
    "# Ensemble Voting\n",
    "ensemble = VotingClassifier(\n",
    "    estimators=[\n",
    "        #('RandomForest', grid_rf.best_estimator_),\n",
    "        #('ExtraTrees', grid_et.best_estimator_),\n",
    "        ('SVM', grid_svm.best_estimator_),\n",
    "        ('LogisticRegression', grid_lr.best_estimator_),\n",
    "    ],\n",
    "    voting='soft'  # dựa trên xác suất dự đoán\n",
    ")\n",
    "\n",
    "ensemble.fit(X_train_scaled, y_train)\n",
    "\n",
    "y_pred = ensemble.predict(X_valid_scaled)\n",
    "y_prob = ensemble.predict_proba(X_valid_scaled)[:, 1]\n",
    "\n",
    "acc = accuracy_score(y_valid, y_pred)\n",
    "print(f'Ensemble Accuracy: {acc}')    \n",
    "auc = roc_auc_score(y_valid, y_prob)\n",
    "print(f'Ensemble ROC AUC: {auc}')"
   ]
  },
  {
   "cell_type": "markdown",
   "id": "69a2dd5f",
   "metadata": {},
   "source": [
    "Ta thấy Ensemble kết hợp từ Logistic Regression và SVM có cả Accuracy và ROC AUC cao vượt trội so với dùng mô một mình mô hình trước đó ta thấy kết quả là tốt nhất là Logistic Regression.\n",
    "\n",
    "Do đó, ta sẽ chọn mô hình này làm mô hình tốt nhất để sử dụng. Giờ ta sẽ học lại trên cả train và valid để mô hình học được nhiều hơn, sau đó mới đánh giá cuối cùng trên tập test."
   ]
  },
  {
   "cell_type": "code",
   "execution_count": 17,
   "id": "b2dea3bf",
   "metadata": {},
   "outputs": [
    {
     "data": {
      "text/plain": [
       "VotingClassifier(estimators=[('SVM',\n",
       "                              SVC(C=1, gamma='auto', probability=True,\n",
       "                                  random_state=42)),\n",
       "                             ('LogisticRegression',\n",
       "                              LogisticRegression(C=0.1, max_iter=1000,\n",
       "                                                 random_state=42))],\n",
       "                 voting='soft')"
      ]
     },
     "execution_count": 17,
     "metadata": {},
     "output_type": "execute_result"
    }
   ],
   "source": [
    "# Kết hợp train và valid\n",
    "X_train_valid = np.concatenate([X_train, X_valid], axis=0)\n",
    "y_train_valid = np.concatenate([y_train, y_valid], axis=0)\n",
    "\n",
    "# Chuẩn hóa dữ liệu\n",
    "scaler = StandardScaler()\n",
    "X_train_valid_scaled = scaler.fit_transform(X_train_valid)\n",
    "\n",
    "# Huấn luyện mô hình ensemble\n",
    "ensemble.fit(X_train_valid_scaled, y_train_valid)"
   ]
  },
  {
   "cell_type": "markdown",
   "id": "02460bc3",
   "metadata": {},
   "source": [
    "### **II. Đánh giá mô hình**"
   ]
  },
  {
   "cell_type": "markdown",
   "id": "9ab566ce",
   "metadata": {},
   "source": [
    "Dự đoán xác suất trên tập test"
   ]
  },
  {
   "cell_type": "code",
   "execution_count": 18,
   "id": "3cb11b16",
   "metadata": {},
   "outputs": [],
   "source": [
    "y_test_proba = ensemble.predict_proba(X_test_scaled)[:, 1]  # xác suất lớp 1\n",
    "y_test_pred = ensemble.predict(X_test_scaled)  # nhãn dự đoán"
   ]
  },
  {
   "cell_type": "markdown",
   "id": "744f74ae",
   "metadata": {},
   "source": [
    "Đánh giá mô hình trên tập test"
   ]
  },
  {
   "cell_type": "code",
   "execution_count": 19,
   "id": "01e28dda",
   "metadata": {},
   "outputs": [
    {
     "name": "stdout",
     "output_type": "stream",
     "text": [
      "Accuracy: 0.9611111111111111\n",
      "ROC AUC: 0.9929882712901581\n"
     ]
    }
   ],
   "source": [
    "print(\"Accuracy:\", accuracy_score(y_test, y_test_pred))\n",
    "print(\"ROC AUC:\", roc_auc_score(y_test, y_test_proba))"
   ]
  },
  {
   "cell_type": "markdown",
   "id": "713f09f8",
   "metadata": {},
   "source": [
    "Mô hình ensemble đạt Accuracy = 0.961 và ROC AUC = 0.993 trên tập test cuối, cho thấy khả năng phân loại chính xác cao và phân biệt tốt giữa hai lớp, kết quả ổn định."
   ]
  },
  {
   "cell_type": "markdown",
   "id": "fd50a8d9",
   "metadata": {},
   "source": [
    "### Dự đoán kết quả của tập test ẩn"
   ]
  },
  {
   "cell_type": "markdown",
   "id": "040b4e60",
   "metadata": {},
   "source": [
    "Ta dự đoán kết quả của tập test ẩn và lưu lại."
   ]
  },
  {
   "cell_type": "code",
   "execution_count": 20,
   "id": "55c723b6",
   "metadata": {},
   "outputs": [
    {
     "data": {
      "text/html": [
       "<div>\n",
       "<style scoped>\n",
       "    .dataframe tbody tr th:only-of-type {\n",
       "        vertical-align: middle;\n",
       "    }\n",
       "\n",
       "    .dataframe tbody tr th {\n",
       "        vertical-align: top;\n",
       "    }\n",
       "\n",
       "    .dataframe thead th {\n",
       "        text-align: right;\n",
       "    }\n",
       "</style>\n",
       "<table border=\"1\" class=\"dataframe\">\n",
       "  <thead>\n",
       "    <tr style=\"text-align: right;\">\n",
       "      <th></th>\n",
       "      <th>vid_id</th>\n",
       "      <th>is_turkey</th>\n",
       "    </tr>\n",
       "  </thead>\n",
       "  <tbody>\n",
       "    <tr>\n",
       "      <th>0</th>\n",
       "      <td>pyKh38FXD3E</td>\n",
       "      <td>0.001166</td>\n",
       "    </tr>\n",
       "    <tr>\n",
       "      <th>1</th>\n",
       "      <td>THhP1idrWXA</td>\n",
       "      <td>0.000332</td>\n",
       "    </tr>\n",
       "    <tr>\n",
       "      <th>2</th>\n",
       "      <td>jsw3T6GY2Nw</td>\n",
       "      <td>0.030377</td>\n",
       "    </tr>\n",
       "    <tr>\n",
       "      <th>3</th>\n",
       "      <td>nFkXTMHcjMU</td>\n",
       "      <td>0.001256</td>\n",
       "    </tr>\n",
       "    <tr>\n",
       "      <th>4</th>\n",
       "      <td>Au8g9kAlrLQ</td>\n",
       "      <td>0.775801</td>\n",
       "    </tr>\n",
       "    <tr>\n",
       "      <th>5</th>\n",
       "      <td>tgk3DUpRI-w</td>\n",
       "      <td>0.013863</td>\n",
       "    </tr>\n",
       "    <tr>\n",
       "      <th>6</th>\n",
       "      <td>BczNwyCGlH4</td>\n",
       "      <td>0.010887</td>\n",
       "    </tr>\n",
       "    <tr>\n",
       "      <th>7</th>\n",
       "      <td>zB5eXpmJDTM</td>\n",
       "      <td>0.001225</td>\n",
       "    </tr>\n",
       "    <tr>\n",
       "      <th>8</th>\n",
       "      <td>099z8epFcfc</td>\n",
       "      <td>0.998269</td>\n",
       "    </tr>\n",
       "    <tr>\n",
       "      <th>9</th>\n",
       "      <td>lQ8DMnq415o</td>\n",
       "      <td>0.998438</td>\n",
       "    </tr>\n",
       "  </tbody>\n",
       "</table>\n",
       "</div>"
      ],
      "text/plain": [
       "        vid_id  is_turkey\n",
       "0  pyKh38FXD3E   0.001166\n",
       "1  THhP1idrWXA   0.000332\n",
       "2  jsw3T6GY2Nw   0.030377\n",
       "3  nFkXTMHcjMU   0.001256\n",
       "4  Au8g9kAlrLQ   0.775801\n",
       "5  tgk3DUpRI-w   0.013863\n",
       "6  BczNwyCGlH4   0.010887\n",
       "7  zB5eXpmJDTM   0.001225\n",
       "8  099z8epFcfc   0.998269\n",
       "9  lQ8DMnq415o   0.998438"
      ]
     },
     "execution_count": 20,
     "metadata": {},
     "output_type": "execute_result"
    }
   ],
   "source": [
    "import pandas as pd\n",
    "# Đọc dữ liệu train\n",
    "test_data = load_data('./data/test.json', is_train=False)\n",
    "\n",
    "# Trích đặc trưng test\n",
    "def extract_features_test(records):\n",
    "    X = []\n",
    "    vid_ids = []\n",
    "    for r in records:\n",
    "        avg_emb = r['audio_embedding'].mean(axis=0)\n",
    "        X.append(avg_emb)\n",
    "        vid_ids.append(r['vid_id'])\n",
    "    X = np.stack(X)\n",
    "    return X, vid_ids\n",
    "\n",
    "X_test_hidden, test_vid_ids = extract_features_test(test_data)\n",
    "X_test_hidden_scaled = scaler.transform(X_test_hidden)  # chuẩn hóa dữ liệu test\n",
    "\n",
    "# Dự đoán nhãn test\n",
    "y_test_pred = ensemble.predict_proba(X_test_hidden_scaled)[:, 1]  # xác suất lớp 1\n",
    "\n",
    "# Tạo DataFrame theo định dạng sample_submission.csv\n",
    "submission_df = pd.DataFrame({\n",
    "    'vid_id': test_vid_ids,\n",
    "    'is_turkey': y_test_pred\n",
    "})\n",
    "\n",
    "# Lưu file submission\n",
    "submission_df.to_csv('result.csv', index=False)\n",
    "\n",
    "submission_df.head(10)"
   ]
  }
 ],
 "metadata": {
  "kernelspec": {
   "display_name": "min_ds-env2",
   "language": "python",
   "name": "python3"
  },
  "language_info": {
   "codemirror_mode": {
    "name": "ipython",
    "version": 3
   },
   "file_extension": ".py",
   "mimetype": "text/x-python",
   "name": "python",
   "nbconvert_exporter": "python",
   "pygments_lexer": "ipython3",
   "version": "3.10.15"
  }
 },
 "nbformat": 4,
 "nbformat_minor": 5
}
