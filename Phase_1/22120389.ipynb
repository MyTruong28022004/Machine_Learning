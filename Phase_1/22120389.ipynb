{
 "cells": [
  {
   "cell_type": "markdown",
   "id": "fe38d510",
   "metadata": {},
   "source": [
    "# **IMPORT**"
   ]
  },
  {
   "cell_type": "code",
   "execution_count": 1,
   "id": "5b2a2389",
   "metadata": {},
   "outputs": [
    {
     "ename": "ModuleNotFoundError",
     "evalue": "No module named 'seaborn'",
     "output_type": "error",
     "traceback": [
      "\u001b[31m---------------------------------------------------------------------------\u001b[39m",
      "\u001b[31mModuleNotFoundError\u001b[39m                       Traceback (most recent call last)",
      "\u001b[36mCell\u001b[39m\u001b[36m \u001b[39m\u001b[32mIn[1]\u001b[39m\u001b[32m, line 4\u001b[39m\n\u001b[32m      2\u001b[39m \u001b[38;5;28;01mimport\u001b[39;00m\u001b[38;5;250m \u001b[39m\u001b[34;01mnumpy\u001b[39;00m\u001b[38;5;250m \u001b[39m\u001b[38;5;28;01mas\u001b[39;00m\u001b[38;5;250m \u001b[39m\u001b[34;01mnp\u001b[39;00m\n\u001b[32m      3\u001b[39m \u001b[38;5;28;01mimport\u001b[39;00m\u001b[38;5;250m \u001b[39m\u001b[34;01mmatplotlib\u001b[39;00m\u001b[34;01m.\u001b[39;00m\u001b[34;01mpyplot\u001b[39;00m\u001b[38;5;250m \u001b[39m\u001b[38;5;28;01mas\u001b[39;00m\u001b[38;5;250m \u001b[39m\u001b[34;01mplt\u001b[39;00m\n\u001b[32m----> \u001b[39m\u001b[32m4\u001b[39m \u001b[38;5;28;01mimport\u001b[39;00m\u001b[38;5;250m \u001b[39m\u001b[34;01mseaborn\u001b[39;00m\u001b[38;5;250m \u001b[39m\u001b[38;5;28;01mas\u001b[39;00m\u001b[38;5;250m \u001b[39m\u001b[34;01msns\u001b[39;00m\n\u001b[32m      5\u001b[39m \u001b[38;5;28;01mimport\u001b[39;00m\u001b[38;5;250m \u001b[39m\u001b[34;01mpandas\u001b[39;00m\u001b[38;5;250m \u001b[39m\u001b[38;5;28;01mas\u001b[39;00m\u001b[38;5;250m \u001b[39m\u001b[34;01mpd\u001b[39;00m\n\u001b[32m      7\u001b[39m \u001b[38;5;28;01mfrom\u001b[39;00m\u001b[38;5;250m \u001b[39m\u001b[34;01msklearn\u001b[39;00m\u001b[34;01m.\u001b[39;00m\u001b[34;01mmodel_selection\u001b[39;00m\u001b[38;5;250m \u001b[39m\u001b[38;5;28;01mimport\u001b[39;00m train_test_split, GridSearchCV\n",
      "\u001b[31mModuleNotFoundError\u001b[39m: No module named 'seaborn'"
     ]
    }
   ],
   "source": [
    "import json\n",
    "import numpy as np\n",
    "import matplotlib.pyplot as plt\n",
    "import seaborn as sns\n",
    "import pandas as pd\n",
    "\n",
    "from sklearn.model_selection import train_test_split, GridSearchCV\n",
    "from sklearn.pipeline import Pipeline\n",
    "from sklearn.preprocessing import StandardScaler\n",
    "from sklearn.metrics import classification_report, confusion_matrix, accuracy_score, roc_auc_score\n",
    "\n",
    "from sklearn.linear_model import LogisticRegression\n",
    "from sklearn.ensemble import RandomForestClassifier, GradientBoostingClassifier\n",
    "from sklearn.svm import SVC\n",
    "from sklearn.neighbors import KNeighborsClassifier\n",
    "from sklearn.model_selection import StratifiedKFold"
   ]
  },
  {
   "cell_type": "markdown",
   "id": "4a6db336",
   "metadata": {},
   "source": [
    "# **ĐỌC DỮ LIỆU**"
   ]
  },
  {
   "cell_type": "code",
   "execution_count": null,
   "id": "47ba7f99",
   "metadata": {},
   "outputs": [
    {
     "data": {
      "text/html": [
       "<div>\n",
       "<style scoped>\n",
       "    .dataframe tbody tr th:only-of-type {\n",
       "        vertical-align: middle;\n",
       "    }\n",
       "\n",
       "    .dataframe tbody tr th {\n",
       "        vertical-align: top;\n",
       "    }\n",
       "\n",
       "    .dataframe thead th {\n",
       "        text-align: right;\n",
       "    }\n",
       "</style>\n",
       "<table border=\"1\" class=\"dataframe\">\n",
       "  <thead>\n",
       "    <tr style=\"text-align: right;\">\n",
       "      <th></th>\n",
       "      <th>0</th>\n",
       "      <th>1</th>\n",
       "      <th>2</th>\n",
       "      <th>3</th>\n",
       "      <th>4</th>\n",
       "      <th>5</th>\n",
       "      <th>6</th>\n",
       "      <th>7</th>\n",
       "      <th>8</th>\n",
       "      <th>9</th>\n",
       "      <th>...</th>\n",
       "      <th>119</th>\n",
       "      <th>120</th>\n",
       "      <th>121</th>\n",
       "      <th>122</th>\n",
       "      <th>123</th>\n",
       "      <th>124</th>\n",
       "      <th>125</th>\n",
       "      <th>126</th>\n",
       "      <th>127</th>\n",
       "      <th>is_turkey</th>\n",
       "    </tr>\n",
       "  </thead>\n",
       "  <tbody>\n",
       "    <tr>\n",
       "      <th>0</th>\n",
       "      <td>166.6</td>\n",
       "      <td>29.3</td>\n",
       "      <td>198.4</td>\n",
       "      <td>106.4</td>\n",
       "      <td>215.2</td>\n",
       "      <td>57.5</td>\n",
       "      <td>77.3</td>\n",
       "      <td>65.0</td>\n",
       "      <td>188.5</td>\n",
       "      <td>149.7</td>\n",
       "      <td>...</td>\n",
       "      <td>85.2</td>\n",
       "      <td>44.3</td>\n",
       "      <td>186.2</td>\n",
       "      <td>0.0</td>\n",
       "      <td>48.2</td>\n",
       "      <td>238.6</td>\n",
       "      <td>138.5</td>\n",
       "      <td>101.0</td>\n",
       "      <td>255.0</td>\n",
       "      <td>0</td>\n",
       "    </tr>\n",
       "    <tr>\n",
       "      <th>1</th>\n",
       "      <td>173.3</td>\n",
       "      <td>13.7</td>\n",
       "      <td>164.7</td>\n",
       "      <td>93.5</td>\n",
       "      <td>201.3</td>\n",
       "      <td>94.2</td>\n",
       "      <td>122.0</td>\n",
       "      <td>114.0</td>\n",
       "      <td>166.0</td>\n",
       "      <td>181.8</td>\n",
       "      <td>...</td>\n",
       "      <td>29.1</td>\n",
       "      <td>77.2</td>\n",
       "      <td>150.2</td>\n",
       "      <td>48.1</td>\n",
       "      <td>126.1</td>\n",
       "      <td>231.3</td>\n",
       "      <td>35.9</td>\n",
       "      <td>14.9</td>\n",
       "      <td>255.0</td>\n",
       "      <td>1</td>\n",
       "    </tr>\n",
       "    <tr>\n",
       "      <th>2</th>\n",
       "      <td>156.2</td>\n",
       "      <td>14.7</td>\n",
       "      <td>152.0</td>\n",
       "      <td>80.0</td>\n",
       "      <td>221.6</td>\n",
       "      <td>60.8</td>\n",
       "      <td>113.8</td>\n",
       "      <td>80.9</td>\n",
       "      <td>170.8</td>\n",
       "      <td>189.5</td>\n",
       "      <td>...</td>\n",
       "      <td>140.5</td>\n",
       "      <td>52.7</td>\n",
       "      <td>167.7</td>\n",
       "      <td>1.0</td>\n",
       "      <td>93.9</td>\n",
       "      <td>201.5</td>\n",
       "      <td>189.3</td>\n",
       "      <td>77.5</td>\n",
       "      <td>255.0</td>\n",
       "      <td>1</td>\n",
       "    </tr>\n",
       "    <tr>\n",
       "      <th>3</th>\n",
       "      <td>152.3</td>\n",
       "      <td>8.9</td>\n",
       "      <td>154.9</td>\n",
       "      <td>79.2</td>\n",
       "      <td>211.0</td>\n",
       "      <td>68.7</td>\n",
       "      <td>99.2</td>\n",
       "      <td>97.2</td>\n",
       "      <td>178.2</td>\n",
       "      <td>201.6</td>\n",
       "      <td>...</td>\n",
       "      <td>232.6</td>\n",
       "      <td>112.7</td>\n",
       "      <td>71.4</td>\n",
       "      <td>46.5</td>\n",
       "      <td>79.3</td>\n",
       "      <td>133.6</td>\n",
       "      <td>64.0</td>\n",
       "      <td>59.1</td>\n",
       "      <td>255.0</td>\n",
       "      <td>1</td>\n",
       "    </tr>\n",
       "    <tr>\n",
       "      <th>4</th>\n",
       "      <td>156.5</td>\n",
       "      <td>12.5</td>\n",
       "      <td>185.8</td>\n",
       "      <td>98.4</td>\n",
       "      <td>214.2</td>\n",
       "      <td>85.9</td>\n",
       "      <td>86.2</td>\n",
       "      <td>79.1</td>\n",
       "      <td>169.7</td>\n",
       "      <td>183.9</td>\n",
       "      <td>...</td>\n",
       "      <td>213.3</td>\n",
       "      <td>128.2</td>\n",
       "      <td>182.5</td>\n",
       "      <td>21.8</td>\n",
       "      <td>52.1</td>\n",
       "      <td>223.1</td>\n",
       "      <td>110.5</td>\n",
       "      <td>33.9</td>\n",
       "      <td>255.0</td>\n",
       "      <td>0</td>\n",
       "    </tr>\n",
       "  </tbody>\n",
       "</table>\n",
       "<p>5 rows × 129 columns</p>\n",
       "</div>"
      ],
      "text/plain": [
       "       0     1      2      3      4     5      6      7      8      9  ...  \\\n",
       "0  166.6  29.3  198.4  106.4  215.2  57.5   77.3   65.0  188.5  149.7  ...   \n",
       "1  173.3  13.7  164.7   93.5  201.3  94.2  122.0  114.0  166.0  181.8  ...   \n",
       "2  156.2  14.7  152.0   80.0  221.6  60.8  113.8   80.9  170.8  189.5  ...   \n",
       "3  152.3   8.9  154.9   79.2  211.0  68.7   99.2   97.2  178.2  201.6  ...   \n",
       "4  156.5  12.5  185.8   98.4  214.2  85.9   86.2   79.1  169.7  183.9  ...   \n",
       "\n",
       "     119    120    121   122    123    124    125    126    127  is_turkey  \n",
       "0   85.2   44.3  186.2   0.0   48.2  238.6  138.5  101.0  255.0          0  \n",
       "1   29.1   77.2  150.2  48.1  126.1  231.3   35.9   14.9  255.0          1  \n",
       "2  140.5   52.7  167.7   1.0   93.9  201.5  189.3   77.5  255.0          1  \n",
       "3  232.6  112.7   71.4  46.5   79.3  133.6   64.0   59.1  255.0          1  \n",
       "4  213.3  128.2  182.5  21.8   52.1  223.1  110.5   33.9  255.0          0  \n",
       "\n",
       "[5 rows x 129 columns]"
      ]
     },
     "execution_count": 2,
     "metadata": {},
     "output_type": "execute_result"
    }
   ],
   "source": [
    "def load_data(json_path):\n",
    "    with open(json_path, 'r') as f:\n",
    "        data = json.load(f)\n",
    "\n",
    "    X = []\n",
    "    y = []\n",
    "\n",
    "    for sample in data:\n",
    "        embedding = np.array(sample['audio_embedding'])  # shape: (n_frames, 128)\n",
    "        # Sử dụng mean vector cho mỗi sample (n_frames -> 1 vector)\n",
    "        mean_vec = np.mean(embedding, axis=0)\n",
    "        X.append(mean_vec)\n",
    "        y.append(sample['is_turkey'])\n",
    "\n",
    "    return np.array(X), np.array(y)\n",
    "\n",
    "X, y = load_data('../Data/train.json')  # Cập nhật đường dẫn nếu cần\n",
    "\n",
    "df = pd.DataFrame(X)\n",
    "df['is_turkey'] = y\n",
    "df.head()"
   ]
  },
  {
   "cell_type": "markdown",
   "id": "0b47929c",
   "metadata": {},
   "source": [
    "# **CHIA DỮ LIỆU THÀNH CÁC TẬP TRAIN/VALID/TEST**"
   ]
  },
  {
   "cell_type": "code",
   "execution_count": null,
   "id": "bc90c72b",
   "metadata": {},
   "outputs": [
    {
     "name": "stdout",
     "output_type": "stream",
     "text": [
      "Train: 835, Val: 180, Test: 180\n"
     ]
    }
   ],
   "source": [
    "# Chia train+val và test trước\n",
    "X_temp, X_test, y_temp, y_test = train_test_split(\n",
    "    X, y, test_size=0.15, random_state=42, stratify=y\n",
    ")\n",
    "# Chia tiếp train và val từ X_temp\n",
    "X_train, X_val, y_train, y_val = train_test_split(\n",
    "    X_temp, y_temp, test_size=0.1765, random_state=42, stratify=y_temp\n",
    ")\n",
    "# 0.85 * 0.1765 ≈ 0.15, nên tỉ lệ cuối cùng là 70% train, 15% val, 15% test\n",
    "print(f\"Train: {len(X_train)}, Val: {len(X_val)}, Test: {len(X_test)}\")"
   ]
  },
  {
   "cell_type": "markdown",
   "id": "0e4abd1f",
   "metadata": {},
   "source": [
    "# **HUẤN LUYỆN MÔ HÌNH**"
   ]
  },
  {
   "cell_type": "code",
   "execution_count": null,
   "id": "1ac32cf0",
   "metadata": {},
   "outputs": [],
   "source": [
    "models = {\n",
    "    \"LogisticRegression\": {\n",
    "        \"model\": LogisticRegression(max_iter=1000),\n",
    "        \"params\": {\n",
    "            \"model__C\": [0.01, 0.1, 1, 10],\n",
    "            \"model__penalty\": [\"l2\"],\n",
    "            \"model__solver\": [\"lbfgs\"]\n",
    "        }\n",
    "    },\n",
    "    \"RandomForest\": {\n",
    "        \"model\": RandomForestClassifier(random_state=42),\n",
    "        \"params\": {\n",
    "            \"model__n_estimators\": [20, 100],\n",
    "            \"model__max_depth\": [None, 10, 20]\n",
    "        }\n",
    "    },\n",
    "    \"SVM\": {\n",
    "        \"model\": SVC(probability=True),\n",
    "        \"params\": {\n",
    "            \"model__C\": [0.01, 1, 10],\n",
    "            \"model__kernel\": [\"linear\", \"rbf\"]\n",
    "        }\n",
    "    },\n",
    "    \"GradientBoosting\": {\n",
    "        \"model\": GradientBoostingClassifier(random_state=42),\n",
    "        \"params\": {\n",
    "            \"model__n_estimators\": [50, 100],\n",
    "            \"model__learning_rate\": [0.01, 0.1, 0.2]\n",
    "        }\n",
    "    },\n",
    "    \"KNN\": {\n",
    "        \"model\": KNeighborsClassifier(),\n",
    "        \"params\": {\n",
    "            \"model__n_neighbors\": [3, 5, 7],\n",
    "            \"model__weights\": [\"uniform\", \"distance\"]\n",
    "        }\n",
    "    }\n",
    "}"
   ]
  },
  {
   "cell_type": "code",
   "execution_count": null,
   "id": "41c0041d",
   "metadata": {},
   "outputs": [
    {
     "name": "stdout",
     "output_type": "stream",
     "text": [
      "\n",
      "Tuning model: LogisticRegression\n"
     ]
    },
    {
     "name": "stdout",
     "output_type": "stream",
     "text": [
      "Best params: {'model__C': 0.01, 'model__penalty': 'l2', 'model__solver': 'lbfgs'}\n",
      "Accuracy: 0.9611111111111111\n",
      "ROC AUC: 0.9883987761346251\n",
      "F1 Score: 0.9608792641050706\n",
      "\n",
      "Tuning model: RandomForest\n",
      "Best params: {'model__max_depth': None, 'model__n_estimators': 100}\n",
      "Accuracy: 0.95\n",
      "ROC AUC: 0.9871876593574708\n",
      "F1 Score: 0.9498315958299919\n",
      "\n",
      "Tuning model: SVM\n",
      "Best params: {'model__C': 1, 'model__kernel': 'rbf'}\n",
      "Accuracy: 0.9611111111111111\n",
      "ROC AUC: 0.9867414584395717\n",
      "F1 Score: 0.9608792641050706\n",
      "\n",
      "Tuning model: GradientBoosting\n",
      "Best params: {'model__learning_rate': 0.2, 'model__n_estimators': 50}\n",
      "Accuracy: 0.9444444444444444\n",
      "ROC AUC: 0.9839367669556349\n",
      "F1 Score: 0.9444444444444444\n",
      "\n",
      "Tuning model: KNN\n",
      "Best params: {'model__n_neighbors': 7, 'model__weights': 'uniform'}\n",
      "Accuracy: 0.9444444444444444\n",
      "ROC AUC: 0.9866777154513002\n",
      "F1 Score: 0.9440352615181404\n"
     ]
    }
   ],
   "source": [
    "results = {}\n",
    "\n",
    "cv = StratifiedKFold(n_splits=5, shuffle=True, random_state=42)\n",
    "\n",
    "for name, mp in models.items():\n",
    "    print(f\"\\nTuning model: {name}\")\n",
    "    pipe = Pipeline([\n",
    "        ('scaler', StandardScaler()),\n",
    "        ('model', mp['model'])\n",
    "    ])\n",
    "    clf = GridSearchCV(pipe, mp['params'], cv=cv, scoring='f1', n_jobs=-1)\n",
    "    clf.fit(X_train, y_train)\n",
    "    \n",
    "    # Dự đoán trên val\n",
    "    y_pred = clf.predict(X_val)\n",
    "    y_proba = clf.predict_proba(X_val)[:, 1]\n",
    "\n",
    "    acc = accuracy_score(y_val, y_pred)\n",
    "    roc = roc_auc_score(y_val, y_proba)\n",
    "    f1 = classification_report(y_val, y_pred, output_dict=True)['weighted avg']['f1-score']\n",
    "\n",
    "    results[name] = {\n",
    "        'model': clf.best_estimator_,\n",
    "        'best_params': clf.best_params_,\n",
    "        'accuracy': acc,\n",
    "        'roc_auc': roc,\n",
    "        'f1_score': f1,\n",
    "        'y_true': y_val,   # thêm y_true vào đây\n",
    "        'y_pred': y_pred   # thêm y_pred vào đây\n",
    "    }\n",
    "\n",
    "    print(\"Best params:\", clf.best_params_)\n",
    "    print(\"Accuracy:\", acc)\n",
    "    print(\"ROC AUC:\", roc)\n",
    "    print(\"F1 Score:\", f1)"
   ]
  },
  {
   "cell_type": "code",
   "execution_count": null,
   "id": "2eb23bff",
   "metadata": {},
   "outputs": [
    {
     "data": {
      "text/html": [
       "<div>\n",
       "<style scoped>\n",
       "    .dataframe tbody tr th:only-of-type {\n",
       "        vertical-align: middle;\n",
       "    }\n",
       "\n",
       "    .dataframe tbody tr th {\n",
       "        vertical-align: top;\n",
       "    }\n",
       "\n",
       "    .dataframe thead th {\n",
       "        text-align: right;\n",
       "    }\n",
       "</style>\n",
       "<table border=\"1\" class=\"dataframe\">\n",
       "  <thead>\n",
       "    <tr style=\"text-align: right;\">\n",
       "      <th></th>\n",
       "      <th>Model</th>\n",
       "      <th>model</th>\n",
       "      <th>best_params</th>\n",
       "      <th>accuracy</th>\n",
       "      <th>roc_auc</th>\n",
       "      <th>f1_score</th>\n",
       "      <th>y_true</th>\n",
       "      <th>y_pred</th>\n",
       "    </tr>\n",
       "  </thead>\n",
       "  <tbody>\n",
       "    <tr>\n",
       "      <th>0</th>\n",
       "      <td>LogisticRegression</td>\n",
       "      <td>(StandardScaler(), LogisticRegression(C=0.01, ...</td>\n",
       "      <td>{'model__C': 0.01, 'model__penalty': 'l2', 'mo...</td>\n",
       "      <td>0.9611</td>\n",
       "      <td>0.9884</td>\n",
       "      <td>0.9609</td>\n",
       "      <td>[0, 0, 0, 0, 0, 0, 0, 1, 1, 0, 0, 0, 0, 0, 0, ...</td>\n",
       "      <td>[0, 0, 0, 0, 0, 0, 0, 1, 0, 0, 0, 0, 0, 0, 0, ...</td>\n",
       "    </tr>\n",
       "    <tr>\n",
       "      <th>1</th>\n",
       "      <td>RandomForest</td>\n",
       "      <td>(StandardScaler(), (DecisionTreeClassifier(max...</td>\n",
       "      <td>{'model__max_depth': None, 'model__n_estimator...</td>\n",
       "      <td>0.9500</td>\n",
       "      <td>0.9872</td>\n",
       "      <td>0.9498</td>\n",
       "      <td>[0, 0, 0, 0, 0, 0, 0, 1, 1, 0, 0, 0, 0, 0, 0, ...</td>\n",
       "      <td>[0, 0, 0, 0, 0, 0, 0, 1, 1, 0, 0, 0, 0, 0, 0, ...</td>\n",
       "    </tr>\n",
       "    <tr>\n",
       "      <th>2</th>\n",
       "      <td>SVM</td>\n",
       "      <td>(StandardScaler(), SVC(C=1, probability=True))</td>\n",
       "      <td>{'model__C': 1, 'model__kernel': 'rbf'}</td>\n",
       "      <td>0.9611</td>\n",
       "      <td>0.9867</td>\n",
       "      <td>0.9609</td>\n",
       "      <td>[0, 0, 0, 0, 0, 0, 0, 1, 1, 0, 0, 0, 0, 0, 0, ...</td>\n",
       "      <td>[0, 0, 0, 0, 0, 0, 0, 1, 0, 0, 0, 0, 0, 0, 0, ...</td>\n",
       "    </tr>\n",
       "    <tr>\n",
       "      <th>3</th>\n",
       "      <td>GradientBoosting</td>\n",
       "      <td>(StandardScaler(), ([DecisionTreeRegressor(cri...</td>\n",
       "      <td>{'model__learning_rate': 0.2, 'model__n_estima...</td>\n",
       "      <td>0.9444</td>\n",
       "      <td>0.9839</td>\n",
       "      <td>0.9444</td>\n",
       "      <td>[0, 0, 0, 0, 0, 0, 0, 1, 1, 0, 0, 0, 0, 0, 0, ...</td>\n",
       "      <td>[0, 0, 0, 0, 0, 0, 0, 1, 0, 0, 0, 0, 0, 0, 0, ...</td>\n",
       "    </tr>\n",
       "    <tr>\n",
       "      <th>4</th>\n",
       "      <td>KNN</td>\n",
       "      <td>(StandardScaler(), KNeighborsClassifier(n_neig...</td>\n",
       "      <td>{'model__n_neighbors': 7, 'model__weights': 'u...</td>\n",
       "      <td>0.9444</td>\n",
       "      <td>0.9867</td>\n",
       "      <td>0.9440</td>\n",
       "      <td>[0, 0, 0, 0, 0, 0, 0, 1, 1, 0, 0, 0, 0, 0, 0, ...</td>\n",
       "      <td>[0, 0, 0, 0, 0, 0, 0, 1, 0, 0, 0, 0, 0, 0, 0, ...</td>\n",
       "    </tr>\n",
       "  </tbody>\n",
       "</table>\n",
       "</div>"
      ],
      "text/plain": [
       "                Model                                              model  \\\n",
       "0  LogisticRegression  (StandardScaler(), LogisticRegression(C=0.01, ...   \n",
       "1        RandomForest  (StandardScaler(), (DecisionTreeClassifier(max...   \n",
       "2                 SVM     (StandardScaler(), SVC(C=1, probability=True))   \n",
       "3    GradientBoosting  (StandardScaler(), ([DecisionTreeRegressor(cri...   \n",
       "4                 KNN  (StandardScaler(), KNeighborsClassifier(n_neig...   \n",
       "\n",
       "                                         best_params  accuracy  roc_auc  \\\n",
       "0  {'model__C': 0.01, 'model__penalty': 'l2', 'mo...    0.9611   0.9884   \n",
       "1  {'model__max_depth': None, 'model__n_estimator...    0.9500   0.9872   \n",
       "2            {'model__C': 1, 'model__kernel': 'rbf'}    0.9611   0.9867   \n",
       "3  {'model__learning_rate': 0.2, 'model__n_estima...    0.9444   0.9839   \n",
       "4  {'model__n_neighbors': 7, 'model__weights': 'u...    0.9444   0.9867   \n",
       "\n",
       "   f1_score                                             y_true  \\\n",
       "0    0.9609  [0, 0, 0, 0, 0, 0, 0, 1, 1, 0, 0, 0, 0, 0, 0, ...   \n",
       "1    0.9498  [0, 0, 0, 0, 0, 0, 0, 1, 1, 0, 0, 0, 0, 0, 0, ...   \n",
       "2    0.9609  [0, 0, 0, 0, 0, 0, 0, 1, 1, 0, 0, 0, 0, 0, 0, ...   \n",
       "3    0.9444  [0, 0, 0, 0, 0, 0, 0, 1, 1, 0, 0, 0, 0, 0, 0, ...   \n",
       "4    0.9440  [0, 0, 0, 0, 0, 0, 0, 1, 1, 0, 0, 0, 0, 0, 0, ...   \n",
       "\n",
       "                                              y_pred  \n",
       "0  [0, 0, 0, 0, 0, 0, 0, 1, 0, 0, 0, 0, 0, 0, 0, ...  \n",
       "1  [0, 0, 0, 0, 0, 0, 0, 1, 1, 0, 0, 0, 0, 0, 0, ...  \n",
       "2  [0, 0, 0, 0, 0, 0, 0, 1, 0, 0, 0, 0, 0, 0, 0, ...  \n",
       "3  [0, 0, 0, 0, 0, 0, 0, 1, 0, 0, 0, 0, 0, 0, 0, ...  \n",
       "4  [0, 0, 0, 0, 0, 0, 0, 1, 0, 0, 0, 0, 0, 0, 0, ...  "
      ]
     },
     "execution_count": 6,
     "metadata": {},
     "output_type": "execute_result"
    }
   ],
   "source": [
    "data = []\n",
    "for model_name, metrics in results.items():\n",
    "    row = {'Model': model_name}\n",
    "    row.update(metrics)\n",
    "    data.append(row)\n",
    "\n",
    "# Tạo DataFrame\n",
    "df_results = pd.DataFrame(data)\n",
    "df_results = df_results.round(4)\n",
    "df_results"
   ]
  },
  {
   "cell_type": "code",
   "execution_count": null,
   "id": "abfd8967",
   "metadata": {},
   "outputs": [
    {
     "data": {
      "text/plain": [
       "<Figure size 400x400 with 0 Axes>"
      ]
     },
     "metadata": {},
     "output_type": "display_data"
    },
    {
     "data": {
      "image/png": "[encoded data removed]",
      "text/plain": [
       "<Figure size 640x480 with 2 Axes>"
      ]
     },
     "metadata": {},
     "output_type": "display_data"
    },
    {
     "data": {
      "text/plain": [
       "<Figure size 400x400 with 0 Axes>"
      ]
     },
     "metadata": {},
     "output_type": "display_data"
    },
    {
     "data": {
      "image/png": "[encoded data removed]",
      "text/plain": [
       "<Figure size 640x480 with 2 Axes>"
      ]
     },
     "metadata": {},
     "output_type": "display_data"
    },
    {
     "data": {
      "text/plain": [
       "<Figure size 400x400 with 0 Axes>"
      ]
     },
     "metadata": {},
     "output_type": "display_data"
    },
    {
     "data": {
      "image/png": "[encoded data removed]",
      "text/plain": [
       "<Figure size 640x480 with 2 Axes>"
      ]
     },
     "metadata": {},
     "output_type": "display_data"
    },
    {
     "data": {
      "text/plain": [
       "<Figure size 400x400 with 0 Axes>"
      ]
     },
     "metadata": {},
     "output_type": "display_data"
    },
    {
     "data": {
      "image/png": "[encoded data removed]",
      "text/plain": [
       "<Figure size 640x480 with 2 Axes>"
      ]
     },
     "metadata": {},
     "output_type": "display_data"
    },
    {
     "data": {
      "text/plain": [
       "<Figure size 400x400 with 0 Axes>"
      ]
     },
     "metadata": {},
     "output_type": "display_data"
    },
    {
     "data": {
      "image/png": "[encoded data removed]",
      "text/plain": [
       "<Figure size 640x480 with 2 Axes>"
      ]
     },
     "metadata": {},
     "output_type": "display_data"
    }
   ],
   "source": [
    "from sklearn.metrics import confusion_matrix, ConfusionMatrixDisplay\n",
    "import matplotlib.pyplot as plt\n",
    "\n",
    "for model_name, res in results.items():\n",
    "    y_val = res['y_true']     # Ground truth\n",
    "    y_val_pred = res['y_pred']     # Predicted labels\n",
    "\n",
    "    cm = confusion_matrix(y_val, y_val_pred)\n",
    "    disp = ConfusionMatrixDisplay(confusion_matrix=cm, display_labels=[\"No Turkey\", \"Turkey\"])\n",
    "\n",
    "    plt.figure(figsize=(4, 4))\n",
    "    disp.plot(cmap=plt.cm.Blues, values_format='d')\n",
    "    plt.title(f\"Confusion Matrix - {model_name}\")\n",
    "    plt.show()"
   ]
  },
  {
   "cell_type": "code",
   "execution_count": null,
   "id": "e12e9aaa",
   "metadata": {},
   "outputs": [],
   "source": [
    "# best_model = results['LogisticRegression']['model']\n",
    "# best_model"
   ]
  },
  {
   "cell_type": "code",
   "execution_count": null,
   "id": "9c97be44",
   "metadata": {},
   "outputs": [],
   "source": [
    "# Gộp train và val\n",
    "X_full = np.concatenate([X_train, X_val], axis=0)\n",
    "y_full = np.concatenate([y_train, y_val], axis=0)"
   ]
  },
  {
   "cell_type": "code",
   "execution_count": null,
   "id": "54818a2b",
   "metadata": {},
   "outputs": [
    {
     "name": "stdout",
     "output_type": "stream",
     "text": [
      "Test Accuracy: 0.9611111111111111\n",
      "Test F1:\n",
      "              precision    recall  f1-score   support\n",
      "\n",
      "           0       0.96      0.97      0.97       106\n",
      "           1       0.96      0.95      0.95        74\n",
      "\n",
      "    accuracy                           0.96       180\n",
      "   macro avg       0.96      0.96      0.96       180\n",
      "weighted avg       0.96      0.96      0.96       180\n",
      "\n",
      "Test ROC AUC: 0.9917134115247324\n"
     ]
    }
   ],
   "source": [
    "# Lấy best_params từ GridSearchCV\n",
    "best_params_lr = results['LogisticRegression']['best_params']\n",
    "\n",
    "# Tạo lại pipeline với best_params\n",
    "final_model_lr = Pipeline([\n",
    "    ('scaler', StandardScaler()),\n",
    "    ('model', LogisticRegression(max_iter=1000, **{k.replace('model__', ''): v for k, v in best_params_lr.items()}))\n",
    "])\n",
    "final_model_lr.fit(X_full, y_full)\n",
    "\n",
    "# Đánh giá trên test\n",
    "y_test_pred = final_model_lr.predict(X_test)\n",
    "y_test_proba = final_model_lr.predict_proba(X_test)[:, 1]\n",
    "print(\"Test Accuracy:\", accuracy_score(y_test, y_test_pred))\n",
    "print(\"Test F1:\")\n",
    "print(classification_report(y_test, y_test_pred))\n",
    "print(\"Test ROC AUC:\", roc_auc_score(y_test, y_test_proba))"
   ]
  },
  {
   "cell_type": "code",
   "execution_count": null,
   "id": "efa8fad6",
   "metadata": {},
   "outputs": [
    {
     "name": "stdout",
     "output_type": "stream",
     "text": [
      "Test Accuracy: 0.9611111111111111\n",
      "Test F1:\n",
      "              precision    recall  f1-score   support\n",
      "\n",
      "           0       0.96      0.97      0.97       106\n",
      "           1       0.96      0.95      0.95        74\n",
      "\n",
      "    accuracy                           0.96       180\n",
      "   macro avg       0.96      0.96      0.96       180\n",
      "weighted avg       0.96      0.96      0.96       180\n",
      "\n",
      "Test ROC AUC: 0.9918408975012749\n"
     ]
    }
   ],
   "source": [
    "# Lấy best_params từ GridSearchCV\n",
    "best_params_svm = results['SVM']['best_params']\n",
    "\n",
    "# Tạo lại pipeline với best_params\n",
    "final_model_svm = Pipeline([\n",
    "    ('scaler', StandardScaler()),\n",
    "    ('model', SVC(probability=True, **{k.replace('model__', ''): v for k, v in best_params_svm.items()}))\n",
    "])\n",
    "final_model_svm.fit(X_full, y_full)\n",
    "\n",
    "# Đánh giá trên test\n",
    "y_test_pred = final_model_svm.predict(X_test)\n",
    "y_test_proba = final_model_svm.predict_proba(X_test)[:, 1]\n",
    "print(\"Test Accuracy:\", accuracy_score(y_test, y_test_pred))\n",
    "print(\"Test F1:\")\n",
    "print(classification_report(y_test, y_test_pred))\n",
    "print(\"Test ROC AUC:\", roc_auc_score(y_test, y_test_proba))"
   ]
  },
  {
   "cell_type": "code",
   "execution_count": null,
   "id": "06db5ccf",
   "metadata": {},
   "outputs": [
    {
     "name": "stdout",
     "output_type": "stream",
     "text": [
      "Test Accuracy (ensemble): 0.9611111111111111\n",
      "Test F1 (ensemble):\n",
      "              precision    recall  f1-score   support\n",
      "\n",
      "           0       0.96      0.97      0.97       106\n",
      "           1       0.96      0.95      0.95        74\n",
      "\n",
      "    accuracy                           0.96       180\n",
      "   macro avg       0.96      0.96      0.96       180\n",
      "weighted avg       0.96      0.96      0.96       180\n",
      "\n",
      "Test ROC AUC (ensemble): 0.9929882712901581\n"
     ]
    }
   ],
   "source": [
    "from sklearn.ensemble import VotingClassifier\n",
    "from sklearn.pipeline import make_pipeline\n",
    "\n",
    "# Lấy best_params từ GridSearchCV\n",
    "best_params_lr = results['LogisticRegression']['best_params']\n",
    "best_params_svm = results['SVM']['best_params']\n",
    "\n",
    "# Lọc tham số cho từng model\n",
    "lr_params = {k.replace('model__', ''): v for k, v in best_params_lr.items() if k.startswith('model__')}\n",
    "svm_params = {k.replace('model__', ''): v for k, v in best_params_svm.items() if k.startswith('model__')}\n",
    "\n",
    "# Khởi tạo mô hình với best_params\n",
    "clf1 = LogisticRegression(max_iter=1000, **lr_params)\n",
    "clf2 = SVC(probability=True, **svm_params)\n",
    "\n",
    "# Tạo pipeline cho mỗi mô hình (nếu cần scaling)\n",
    "pipe1 = make_pipeline(StandardScaler(), clf1)\n",
    "pipe2 = make_pipeline(StandardScaler(), clf2)\n",
    "\n",
    "# VotingClassifier (soft voting dùng xác suất)\n",
    "ensemble = VotingClassifier(\n",
    "    estimators=[\n",
    "        ('lr', pipe1),\n",
    "        ('svm', pipe2)\n",
    "    ],\n",
    "    voting='soft',\n",
    "    n_jobs=-1\n",
    ")\n",
    "\n",
    "# Huấn luyện trên X_full, y_full\n",
    "ensemble.fit(X_full, y_full)\n",
    "\n",
    "# Dự đoán trên test\n",
    "y_test_pred = ensemble.predict(X_test)\n",
    "y_test_proba = ensemble.predict_proba(X_test)[:, 1]\n",
    "\n",
    "print(\"Test Accuracy (ensemble):\", accuracy_score(y_test, y_test_pred))\n",
    "print(\"Test F1 (ensemble):\")\n",
    "print(classification_report(y_test, y_test_pred))\n",
    "print(\"Test ROC AUC (ensemble):\", roc_auc_score(y_test, y_test_proba))"
   ]
  },
  {
   "cell_type": "code",
   "execution_count": null,
   "id": "ab525b87",
   "metadata": {},
   "outputs": [
    {
     "data": {
      "image/png": "[encoded data removed]",
      "text/plain": [
       "<Figure size 500x400 with 2 Axes>"
      ]
     },
     "metadata": {},
     "output_type": "display_data"
    }
   ],
   "source": [
    "# Nếu y_test_pred đã là nhãn cứng (0/1), dùng luôn\n",
    "cm = confusion_matrix(y_test, y_test_pred)\n",
    "\n",
    "plt.figure(figsize=(5,4))\n",
    "sns.heatmap(cm, annot=True, fmt='d', cmap='Blues')\n",
    "plt.xlabel('Predicted label')\n",
    "plt.ylabel('True label')\n",
    "plt.title('Confusion Matrix on Test Set')\n",
    "plt.show()"
   ]
  },
  {
   "cell_type": "code",
   "execution_count": null,
   "id": "5f57bd24",
   "metadata": {},
   "outputs": [],
   "source": [
    "with open('../Data/test.json', 'r') as f:\n",
    "    test_data = json.load(f)\n",
    "\n",
    "X_submit = []\n",
    "vid_ids = []\n",
    "\n",
    "for sample in test_data:\n",
    "    embedding = np.array(sample['audio_embedding'])\n",
    "    mean_vec = np.mean(embedding, axis=0)\n",
    "    X_submit.append(mean_vec)\n",
    "    vid_ids.append(sample['vid_id'])\n",
    "\n",
    "X_submit = np.array(X_submit)\n",
    "\n",
    "y_submit_proba = ensemble.predict_proba(X_submit)[:, 1]\n",
    "\n",
    "submission = pd.DataFrame({\n",
    "    \"vid_id\": vid_ids,\n",
    "    \"is_turkey\": y_submit_proba\n",
    "})\n",
    "submission.to_csv(\"result.csv\", index=False)"
   ]
  }
 ],
 "metadata": {
  "kernelspec": {
   "display_name": "ml-env",
   "language": "python",
   "name": "python3"
  },
  "language_info": {
   "codemirror_mode": {
    "name": "ipython",
    "version": 3
   },
   "file_extension": ".py",
   "mimetype": "text/x-python",
   "name": "python",
   "nbconvert_exporter": "python",
   "pygments_lexer": "ipython3",
   "version": "3.11.7"
  }
 },
 "nbformat": 4,
 "nbformat_minor": 5
}
