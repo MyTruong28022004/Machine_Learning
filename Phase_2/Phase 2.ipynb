{
 "cells": [
  {
   "cell_type": "markdown",
   "id": "3d92dd06",
   "metadata": {},
   "source": [
    "# **NHẬP MÔN HỌC MÁY**\n",
    "## **PHASE 1**\n",
    "### Lớp: CQ2022/24\n",
    "### Thông tin thành viên\n",
    "|MSSV|Họ và tên|\n",
    "|-|-|\n",
    "|22120214| Trương Thị Tú My|\n",
    "|22120389| Dương Ngọc Kiều Trinh|\n",
    "|22120422| Nguyễn Phạm Tú Uyên|\n",
    "#\n",
    "---"
   ]
  },
  {
   "cell_type": "markdown",
   "id": "673a7877",
   "metadata": {},
   "source": [
    "### Import"
   ]
  },
  {
   "cell_type": "code",
   "execution_count": 128,
   "id": "0262abbe",
   "metadata": {},
   "outputs": [],
   "source": [
    "# import các thư viện cần thiết\n",
    "import numpy as np \n",
    "import pandas as pd\n",
    "import json\n",
    "import random\n",
    "import os\n",
    "\n",
    "import matplotlib.pyplot as plt\n",
    "import seaborn as sns\n",
    "import time\n",
    "import psutil\n",
    "\n",
    "\n",
    "from sklearn.metrics import roc_auc_score, accuracy_score, confusion_matrix, ConfusionMatrixDisplay, classification_report, roc_curve\n",
    "from sklearn.model_selection import train_test_split\n",
    "from sklearn.preprocessing import StandardScaler\n",
    "\n",
    "import keras_tuner as kt\n",
    "import tensorflow as tf\n",
    "from tensorflow.keras.models import Sequential\n",
    "from tensorflow.keras.layers import Dense, Dropout, BatchNormalization\n",
    "from tensorflow.keras.optimizers import Adam\n",
    "from tensorflow.keras.losses import BinaryCrossentropy\n",
    "from tensorflow.keras.metrics import AUC\n",
    "from tensorflow.keras.callbacks import EarlyStopping"
   ]
  },
  {
   "cell_type": "code",
   "execution_count": 129,
   "id": "3831aafd",
   "metadata": {},
   "outputs": [],
   "source": [
    "# Tắt các cảnh báo không cần thiết\n",
    "import warnings\n",
    "warnings.filterwarnings('ignore')"
   ]
  },
  {
   "cell_type": "markdown",
   "id": "f218dd79",
   "metadata": {},
   "source": [
    "### Đọc dữ liệu"
   ]
  },
  {
   "cell_type": "markdown",
   "id": "d04799fd",
   "metadata": {},
   "source": [
    "Hàm đọc dữ liệu từ file json"
   ]
  },
  {
   "cell_type": "code",
   "execution_count": 130,
   "id": "f490a48d",
   "metadata": {},
   "outputs": [],
   "source": [
    "def load_data(json_path, is_train=True):\n",
    "    '''(str, bool) -> list\n",
    "    Hàm này đọc dữ liệu từ file json và trả về một list các dictionary.\n",
    "    \n",
    "    Mỗi dictionary chứa các thông tin sau:\n",
    "    - vid_id: id của video\n",
    "    - start_time: thời gian bắt đầu của clip trong video\n",
    "    - end_time: thời gian kết thúc của clip trong video\n",
    "    - audio_embedding: numpy array chứa các đặc trưng âm thanh của clip\n",
    "    - is_turkey: nhãn cho bài toán phân loại (nếu là train)\n",
    "\n",
    "    Tham số\n",
    "    -------\n",
    "    json_path: đường dẫn đến file json chứa dữ liệu\n",
    "    is_train: True nếu là dữ liệu train, False nếu là dữ liệu test\n",
    "    '''\n",
    "\n",
    "    with open(json_path, 'r') as f:\n",
    "        data = json.load(f)\n",
    "    \n",
    "    records = []\n",
    "\n",
    "    for item in data:\n",
    "\n",
    "        # audio_embedding là một list list 128 chiều, ta chuyển thành numpy array\n",
    "        embedding = np.array(item['audio_embedding'])  # shape: (frames, 128)\n",
    "        \n",
    "        record = {\n",
    "            'vid_id': item['vid_id'],\n",
    "            'start_time': item['start_time_seconds_youtube_clip'],\n",
    "            'end_time': item['end_time_seconds_youtube_clip'],\n",
    "            'audio_embedding': embedding\n",
    "        }\n",
    "        \n",
    "        if is_train:\n",
    "            record['is_turkey'] = item['is_turkey']\n",
    "        \n",
    "        records.append(record)\n",
    "    \n",
    "    return records"
   ]
  },
  {
   "cell_type": "markdown",
   "id": "368309e6",
   "metadata": {},
   "source": [
    "Đọc dữ liệu từ file json"
   ]
  },
  {
   "cell_type": "code",
   "execution_count": 131,
   "id": "a034c933",
   "metadata": {},
   "outputs": [],
   "source": [
    "# Đọc dữ liệu train\n",
    "train_data = load_data('../data/train.json', is_train=True)"
   ]
  },
  {
   "cell_type": "markdown",
   "id": "4089edee",
   "metadata": {},
   "source": [
    "### **I. Xây dựng Mô hình**"
   ]
  },
  {
   "cell_type": "markdown",
   "id": "aed2e1a0",
   "metadata": {},
   "source": [
    "#### 1. Chuẩn bị dữ liệu"
   ]
  },
  {
   "cell_type": "markdown",
   "id": "0ed0e976",
   "metadata": {},
   "source": [
    "Hàm trích đặc trưng trung bình embedding cho danh sách samples"
   ]
  },
  {
   "cell_type": "code",
   "execution_count": 132,
   "id": "56aaaf89",
   "metadata": {},
   "outputs": [],
   "source": [
    "def extract_features_labels(records):\n",
    "    '''(list) -> tuple\n",
    "    Trả về một tuple gồm hai phần:\n",
    "    - X: numpy array chứa các đặc trưng âm thanh của các clip\n",
    "    - y: numpy array chứa nhãn cho các clip\n",
    "\n",
    "    Mỗi clip được biểu diễn bằng một numpy array 128 chiều, là trung bình của các đặc trưng âm thanh trong khoảng thời gian clip.\n",
    "\n",
    "    Tham số\n",
    "    -------\n",
    "    records: list các dictionary chứa thông tin về các clip\n",
    "    '''\n",
    "\n",
    "    X = []\n",
    "    y = []\n",
    "    for r in records:\n",
    "        avg_emb = r['audio_embedding'].mean(axis=0)\n",
    "        X.append(avg_emb)\n",
    "        if 'is_turkey' in r:\n",
    "            y.append(r['is_turkey'])\n",
    "    return np.stack(X), np.array(y)"
   ]
  },
  {
   "cell_type": "markdown",
   "id": "00c924af",
   "metadata": {},
   "source": [
    "Chia tập train thành 3 phần train, validation và test với tỷ lệ 70:15:15"
   ]
  },
  {
   "cell_type": "code",
   "execution_count": 133,
   "id": "870be473",
   "metadata": {},
   "outputs": [
    {
     "name": "stdout",
     "output_type": "stream",
     "text": [
      "Train size: 835\n",
      "Valid size: 180\n",
      "Test size: 180\n"
     ]
    }
   ],
   "source": [
    "X, y = extract_features_labels(train_data)\n",
    "\n",
    "# Chia train+val và test trước\n",
    "X_temp, X_test, y_temp, y_test = train_test_split(\n",
    "    X, y, test_size=0.15, random_state=42, stratify=y\n",
    ")\n",
    "# Chia tiếp train và val từ X_temp\n",
    "X_train, X_valid, y_train, y_valid = train_test_split(\n",
    "    X_temp, y_temp, test_size=0.1765, random_state=42, stratify=y_temp\n",
    ")\n",
    "\n",
    "print(\"Train size:\", X_train.shape[0])\n",
    "print(\"Valid size:\", X_valid.shape[0])\n",
    "print(\"Test size:\", X_test.shape[0])"
   ]
  },
  {
   "cell_type": "markdown",
   "id": "9061f229",
   "metadata": {},
   "source": [
    "#### 2. Huấn luyện mô hình\n",
    "Trong bước này, nhóm thử nghiệm 5 mô hình khác nhau để xây dựng một baseline model. Mục tiêu là đánh giá nhanh hiệu suất của từng mô hình trên tập validation bằng chỉ số AUC, từ đó lựa chọn ra những mô hình có hiệu quả tốt nhất phù hợp với dữ liệu hiện tại. Việc chọn các mô hình có sự cân nhắc sự đa dạng về kiến trúc — từ các mạng đơn giản với 1 lớp Dense đến các mạng sâu hơn kết hợp dropout nhằm giảm overfitting. Các mô hình tốt nhất sẽ được tiếp tục tối ưu hóa để cải thiện hiệu suất."
   ]
  },
  {
   "cell_type": "markdown",
   "id": "11346540",
   "metadata": {},
   "source": [
    "| Model | Lớp Dense     | Dropout         | Kiến trúc                                                                                                                       | Mục tiêu chính                          | Ưu điểm                            | Nhược điểm                         |\n",
    "| ----- | ------------- | --------------- | ------------------------------------------------------------------------------------------------------------------------------- | --------------------------------------- | ---------------------------------- | ---------------------------------- |\n",
    "| 1     | 128 + 64      | 0.3 + 0.2       | Dense(128, ReLU) → BN → Dropout(0.3) → Dense(64, ReLU) → Dropout(0.2) → Dense(1, Sigmoid)                                       | Cân bằng giữa độ sâu và regularization  | Ổn định nhờ BN, tránh overfit nhẹ  | Có thể chưa đủ sâu để học phức tạp |\n",
    "| 2     | 128 + 64      | 0.4 + 0.2       | Dense(128, ReLU) → BN → Dropout(0.4) → Dense(64, ReLU) → Dropout(0.2) → Dense(1, Sigmoid)                                       | Tăng regularization để chống overfit    | Giảm overfit tốt hơn model 1       | Dropout cao dễ làm mất thông tin   |\n",
    "| 3     | 128 + 64 + 32 | 0.3             | Dense(128, ReLU) → BN → Dense(64, ReLU) → Dropout(0.3) → Dense(32, ReLU) → Dense(1, Sigmoid)                                    | Tăng chiều sâu để học biểu diễn tốt hơn | Biểu diễn mạnh hơn                 | Không có Dropout đầu dễ overfit    |\n",
    "| 4     | 128 + 64 + 32 | 0.4 + 0.3 + 0.2 | Dense(128, ReLU) → BN → Dropout(0.4) → Dense(64, ReLU) → BN → Dropout(0.3) → Dense(32, ReLU) → Dropout(0.2) → Dense(1, Sigmoid) | Kết hợp sâu và regularization mạnh      | Giảm overfit, kiến trúc hoàn chỉnh | Training chậm, có thể underfit nhẹ |\n",
    "| 5     | 128 + 64      | 0.3 + 0.2       | Dense(128, ReLU) → BN → Dropout(0.3) → Dense(64, ReLU) → Dropout(0.2) → Dense(1, Sigmoid)                                       | Giống model 1, kiểm chứng độ ổn định    | Giữ cân bằng giữa tốc độ và độ sâu | Không khác biệt rõ với model 1     |\n",
    "\n",
    "- BN là BatchNormalization, giúp ổn định quá trình huấn luyện.\n",
    "\n",
    "- Mô hình 1 và 5 giống nhau về kiến trúc.\n",
    "\n",
    "- Model 4 là mạnh nhất về độ sâu và regularization, có tiềm năng tốt nếu dữ liệu đủ lớn."
   ]
  },
  {
   "cell_type": "code",
   "execution_count": 134,
   "id": "b5bd8641",
   "metadata": {},
   "outputs": [],
   "source": [
    "def build_model_1():\n",
    "    model = Sequential([\n",
    "        Dense(128, activation='relu', input_shape=(128,)),\n",
    "        BatchNormalization(),\n",
    "        Dropout(0.3),\n",
    "        Dense(64, activation='relu'),\n",
    "        Dropout(0.2),\n",
    "        Dense(1, activation='sigmoid')\n",
    "    ])\n",
    "    model.compile(optimizer=Adam(1e-3), loss=BinaryCrossentropy(), metrics=[AUC(name='auc')])\n",
    "    return model\n",
    "\n",
    "def build_model_2():\n",
    "    model = Sequential([\n",
    "        Dense(128, activation='relu', input_shape=(128,)),\n",
    "        BatchNormalization(),\n",
    "        Dropout(0.4),\n",
    "        Dense(64, activation='relu'),\n",
    "        Dropout(0.2),\n",
    "        Dense(1, activation='sigmoid')\n",
    "    ])\n",
    "    model.compile(optimizer=Adam(1e-3), loss=BinaryCrossentropy(), metrics=[AUC(name='auc')])\n",
    "    return model\n",
    "\n",
    "def build_model_3():\n",
    "    model = Sequential([\n",
    "        Dense(128, activation='relu', input_shape=(128,)),\n",
    "        BatchNormalization(),\n",
    "        Dense(64, activation='relu'),\n",
    "        Dropout(0.3),\n",
    "        Dense(32, activation='relu'),\n",
    "        Dense(1, activation='sigmoid')\n",
    "    ])\n",
    "    model.compile(optimizer=Adam(1e-3), loss=BinaryCrossentropy(), metrics=[AUC(name='auc')])\n",
    "    return model\n",
    "\n",
    "def build_model_4():\n",
    "    model = Sequential([\n",
    "        Dense(128, activation='relu', input_shape=(128,)),\n",
    "        BatchNormalization(),\n",
    "        Dropout(0.4),\n",
    "        Dense(64, activation='relu'),\n",
    "        BatchNormalization(),\n",
    "        Dropout(0.3),\n",
    "        Dense(32, activation='relu'),\n",
    "        Dropout(0.2),\n",
    "        Dense(1, activation='sigmoid')\n",
    "    ])\n",
    "    model.compile(optimizer=Adam(1e-3), loss=BinaryCrossentropy(), metrics=[AUC(name='auc')])\n",
    "    return model\n",
    "\n",
    "def build_model_5():\n",
    "    model = Sequential([\n",
    "        Dense(128, activation='relu', input_shape=(128,)),\n",
    "        BatchNormalization(),\n",
    "        Dropout(0.3),\n",
    "        Dense(64, activation='relu'),\n",
    "        Dropout(0.2),\n",
    "        Dense(1, activation='sigmoid')\n",
    "    ])\n",
    "    model.compile(optimizer=Adam(1e-3), loss=BinaryCrossentropy(), metrics=[AUC(name='auc')])\n",
    "    return model"
   ]
  },
  {
   "cell_type": "code",
   "execution_count": 135,
   "id": "d7233747",
   "metadata": {},
   "outputs": [],
   "source": [
    "model_builders = [build_model_1, build_model_2, build_model_3, build_model_4, build_model_5]\n",
    "model_names = ['Model 1', 'Model 2', 'Model 3', 'Model 4', 'Model 5']"
   ]
  },
  {
   "cell_type": "markdown",
   "id": "c44ae007",
   "metadata": {},
   "source": [
    "Hàm huấn luyện các mô hình trên tập train"
   ]
  },
  {
   "cell_type": "code",
   "execution_count": 136,
   "id": "93ff60ba",
   "metadata": {},
   "outputs": [],
   "source": [
    "def set_seed(seed=42):\n",
    "    np.random.seed(seed)\n",
    "    tf.random.set_seed(seed)\n",
    "    random.seed(seed)\n",
    "    os.environ['PYTHONHASHSEED'] = str(seed)\n",
    "    # Với TensorFlow 2.x\n",
    "    tf.keras.utils.set_random_seed(seed)\n",
    "    tf.config.experimental.enable_op_determinism()"
   ]
  },
  {
   "cell_type": "code",
   "execution_count": 137,
   "id": "86f1a01d",
   "metadata": {},
   "outputs": [],
   "source": [
    "def train_model(builder, X_train, y_train, epochs=3, batch_size=32):\n",
    "    set_seed()\n",
    "    model = builder()\n",
    "    \n",
    "    process = psutil.Process()\n",
    "    cpu_start = process.cpu_percent(interval=None)\n",
    "    mem_start = process.memory_info().rss / (1024 ** 2)  # MB\n",
    "\n",
    "    start_time = time.time()\n",
    "    model.fit(X_train, y_train,\n",
    "              epochs=epochs, batch_size=batch_size, verbose=0)\n",
    "    train_time = time.time() - start_time\n",
    "\n",
    "    cpu_end = process.cpu_percent(interval=None)\n",
    "    mem_end = process.memory_info().rss / (1024 ** 2)\n",
    "\n",
    "    cpu_usage = cpu_end - cpu_start\n",
    "    mem_usage = mem_end - mem_start\n",
    "\n",
    "    print(f\"Training time: {train_time:.2f}s | CPU: {cpu_usage:.2f}% | RAM: {mem_usage:.2f} MB\")\n",
    "    \n",
    "    return model, train_time, cpu_usage, mem_usage"
   ]
  },
  {
   "cell_type": "markdown",
   "id": "b628ecff",
   "metadata": {},
   "source": [
    "Huấn luyện"
   ]
  },
  {
   "cell_type": "code",
   "execution_count": 138,
   "id": "a1fc5d80",
   "metadata": {},
   "outputs": [
    {
     "name": "stdout",
     "output_type": "stream",
     "text": [
      "Training Model 1 ...\n",
      "Training time: 3.20s | CPU: 104.40% | RAM: 5.16 MB\n",
      "Training Model 2 ...\n",
      "Training time: 2.60s | CPU: 112.00% | RAM: 8.49 MB\n",
      "Training Model 3 ...\n",
      "Training time: 2.68s | CPU: 108.70% | RAM: 16.38 MB\n",
      "Training Model 4 ...\n",
      "Training time: 3.67s | CPU: 97.90% | RAM: 29.15 MB\n",
      "Training Model 5 ...\n",
      "Training time: 2.68s | CPU: 104.10% | RAM: 15.07 MB\n"
     ]
    }
   ],
   "source": [
    "trained_models = []\n",
    "for builder, name in zip(model_builders, model_names):\n",
    "    print(f\"Training {name} ...\")\n",
    "    model, train_time, cpu_usage, mem_usage = train_model(builder, X_train, y_train, epochs=3, batch_size=32)\n",
    "    trained_models.append({\n",
    "        'name': name,\n",
    "        'model': model,\n",
    "        'train_time': train_time,\n",
    "        'cpu_usage': cpu_usage,\n",
    "        'mem_usage': mem_usage,\n",
    "        'builder': builder\n",
    "    })"
   ]
  },
  {
   "cell_type": "markdown",
   "id": "a0ea0276",
   "metadata": {},
   "source": [
    "Hàm dự đoán xác suất từ các mô hình đã train"
   ]
  },
  {
   "cell_type": "code",
   "execution_count": 139,
   "id": "f62998f4",
   "metadata": {},
   "outputs": [],
   "source": [
    "def predict_proba_model(model, X_val, y_val):\n",
    "    y_val_pred = model.predict(X_val).ravel()\n",
    "    val_auc = roc_auc_score(y_val, y_val_pred)\n",
    "    print(f\"Validation AUC: {val_auc:.4f}\")\n",
    "    return val_auc"
   ]
  },
  {
   "cell_type": "markdown",
   "id": "9db5cc61",
   "metadata": {},
   "source": [
    "Dự đoán"
   ]
  },
  {
   "cell_type": "code",
   "execution_count": 140,
   "id": "5c9f8d40",
   "metadata": {},
   "outputs": [
    {
     "name": "stdout",
     "output_type": "stream",
     "text": [
      "\u001b[1m6/6\u001b[0m \u001b[32m━━━━━━━━━━━━━━━━━━━━\u001b[0m\u001b[37m\u001b[0m \u001b[1m0s\u001b[0m 18ms/step\n",
      "\u001b[1m6/6\u001b[0m \u001b[32m━━━━━━━━━━━━━━━━━━━━\u001b[0m\u001b[37m\u001b[0m \u001b[1m0s\u001b[0m 19ms/step\n",
      "\u001b[1m6/6\u001b[0m \u001b[32m━━━━━━━━━━━━━━━━━━━━\u001b[0m\u001b[37m\u001b[0m \u001b[1m0s\u001b[0m 27ms/step\n",
      "\u001b[1m6/6\u001b[0m \u001b[32m━━━━━━━━━━━━━━━━━━━━\u001b[0m\u001b[37m\u001b[0m \u001b[1m0s\u001b[0m 30ms/step\n",
      "\u001b[1m6/6\u001b[0m \u001b[32m━━━━━━━━━━━━━━━━━━━━\u001b[0m\u001b[37m\u001b[0m \u001b[1m0s\u001b[0m 15ms/step\n"
     ]
    }
   ],
   "source": [
    "for m in trained_models:\n",
    "    y_pred = m['model'].predict(X_valid).ravel()\n",
    "    m['y_pred'] = y_pred"
   ]
  },
  {
   "cell_type": "markdown",
   "id": "607bbe4b",
   "metadata": {},
   "source": [
    "Đánh giá các mô hình trên tập valid"
   ]
  },
  {
   "cell_type": "code",
   "execution_count": 141,
   "id": "58979c03",
   "metadata": {},
   "outputs": [
    {
     "name": "stdout",
     "output_type": "stream",
     "text": [
      "Model 1 validation AUC: 0.9881, train time: 3.20s\n",
      "Model 2 validation AUC: 0.9889, train time: 2.60s\n",
      "Model 3 validation AUC: 0.9870, train time: 2.68s\n",
      "Model 4 validation AUC: 0.9838, train time: 3.67s\n",
      "Model 5 validation AUC: 0.9881, train time: 2.68s\n"
     ]
    }
   ],
   "source": [
    "results = []\n",
    "for m in trained_models:\n",
    "    val_auc = roc_auc_score(y_valid, m['y_pred'])\n",
    "    print(f\"{m['name']} validation AUC: {val_auc:.4f}, train time: {m['train_time']:.2f}s\")\n",
    "    results.append({\n",
    "        'name': m['name'],\n",
    "        'model': m['model'],\n",
    "        'val_auc': val_auc,\n",
    "        'train_time': m['train_time'],\n",
    "        'builder': m['builder']\n",
    "    })"
   ]
  },
  {
   "cell_type": "markdown",
   "id": "496d4699",
   "metadata": {},
   "source": [
    "Trực quan đánh giá "
   ]
  },
  {
   "cell_type": "code",
   "execution_count": 142,
   "id": "56914f1d",
   "metadata": {},
   "outputs": [
    {
     "data": {
      "image/png": "[encoded data removed]",
      "text/plain": [
       "<Figure size 1000x600 with 1 Axes>"
      ]
     },
     "metadata": {},
     "output_type": "display_data"
    }
   ],
   "source": [
    "# Trực quan hóa AUC các mô hình\n",
    "sorted_auc = [(m['name'], m['val_auc']) for m in results]\n",
    "sorted_auc.sort(key=lambda x: x[1])  # Sắp xếp tăng để vẽ barh từ dưới lên\n",
    "\n",
    "names = [name for name, _ in sorted_auc]\n",
    "auc_values = [auc_score for _, auc_score in sorted_auc]\n",
    "\n",
    "plt.figure(figsize=(10, 6))\n",
    "plt.barh(names, auc_values, color='#1f77b4')  \n",
    "plt.xlim(0.9, 1.0)  # Giới hạn nếu muốn tập trung vào high-performance models\n",
    "plt.xlabel('ROC AUC Score')\n",
    "plt.title('Validation AUC Scores by Model')\n",
    "plt.grid(axis='x')\n",
    "plt.tight_layout()\n",
    "plt.show()"
   ]
  },
  {
   "cell_type": "code",
   "execution_count": 143,
   "id": "f6f458cd",
   "metadata": {},
   "outputs": [
    {
     "name": "stdout",
     "output_type": "stream",
     "text": [
      "\n",
      "Top 3 models (auto-selected):\n",
      "Model 2 - Validation AUC: 0.9889\n",
      "Model 1 - Validation AUC: 0.9881\n",
      "Model 5 - Validation AUC: 0.9881\n"
     ]
    }
   ],
   "source": [
    "# Sắp xếp theo AUC và chọn top 3\n",
    "results = sorted(results, key=lambda x: x['val_auc'], reverse=True)\n",
    "top3 = results[:3]\n",
    "\n",
    "print(\"\\nTop 3 models (auto-selected):\")\n",
    "for r in top3:\n",
    "    print(f\"{r['name']} - Validation AUC: {r['val_auc']:.4f}\")"
   ]
  },
  {
   "cell_type": "markdown",
   "id": "f3ca2fe2",
   "metadata": {},
   "source": [
    "**Đánh giá hiệu suất các mô hình baseline trên tập validation**\n",
    "\n",
    "| Model | AUC    | Thời gian (s) *(có thể thay đổi khi chạy lại)* | Nhận xét tổng quan                                                                                |\n",
    "| ----- | ------ | ---------------------------------------------- | ------------------------------------------------------------------------------------------------- |\n",
    "| **2** | 0.9889 | 2.38                                           | ☑️ AUC cao nhất, regularization tốt với Dropout. Huấn luyện nhanh, phù hợp để fine-tune.          |\n",
    "| **1** | 0.9881 | 2.66                                           | ☑️ Hiệu quả, đơn giản và ổn định. AUC cao, phù hợp làm baseline mạnh.                             |\n",
    "| **5** | 0.9881 | 2.58                                           | ☑️ Giống Model 1 về hiệu suất, đơn giản và nhanh, dùng để kiểm chứng tính nhất quán.              |\n",
    "| 3     | 0.9870 | 2.72                                           | ⚠️ Mạng sâu giúp học biểu diễn tốt nhưng AUC thấp hơn. Có thể cần thêm Dropout để tránh overfit.  |\n",
    "| 4     | 0.9838 | 3.46                                           | ⚠️ Kiến trúc phức tạp nhất, có nhiều Dropout nhưng lại cho AUC thấp nhất. Có thể bị underfit nhẹ. |\n",
    "\n",
    "**Chọn 3 model có hiệu suất tốt nhất để tiếp tục fine-tune phù hợp**\n",
    "\n",
    "| Model       | Lý do chọn                                                                                       |\n",
    "| ----------- | ------------------------------------------------------------------------------------------------ |\n",
    "| **Model 2** | AUC cao nhất (0.9889), thời gian huấn luyện thấp, có Dropout giúp chống overfit tốt.             |\n",
    "| **Model 1** | Baseline ổn định, AUC cao (0.9881), đơn giản, dễ triển khai và mở rộng.                          |\n",
    "| **Model 5** | Có AUC bằng Model 1, thời gian huấn luyện nhanh. Dùng để so sánh và kiểm tra độ ổn định mô hình. |"
   ]
  },
  {
   "cell_type": "markdown",
   "id": "76972e57",
   "metadata": {},
   "source": [
    "#### 3. Tinh chỉnh siêu tham số"
   ]
  },
  {
   "cell_type": "code",
   "execution_count": 144,
   "id": "0bd5b812",
   "metadata": {},
   "outputs": [],
   "source": [
    "def tuner_build_model_1(hp):\n",
    "    model = Sequential()\n",
    "    model.add(Dense(\n",
    "        hp.Int('units_1', min_value=64, max_value=256, step=64),\n",
    "        activation='relu',\n",
    "        input_shape=(128,)\n",
    "    ))\n",
    "    model.add(BatchNormalization())\n",
    "    model.add(Dropout(hp.Float('dropout_1', 0.2, 0.5, step=0.1)))\n",
    "\n",
    "    model.add(Dense(\n",
    "        hp.Int('units_2', min_value=32, max_value=128, step=32),\n",
    "        activation='relu'\n",
    "    ))\n",
    "    model.add(Dropout(hp.Float('dropout_2', 0.0, 0.3, step=0.1)))\n",
    "\n",
    "    model.add(Dense(1, activation='sigmoid'))\n",
    "\n",
    "    model.compile(\n",
    "        optimizer=Adam(hp.Choice('lr', [1e-2, 1e-3, 1e-4])),\n",
    "        loss=BinaryCrossentropy(),\n",
    "        metrics=[AUC(name='auc')]\n",
    "    )\n",
    "    return model\n",
    "\n",
    "def tuner_build_model_2(hp):\n",
    "    model = Sequential()\n",
    "\n",
    "    # Lớp Dense đầu tiên\n",
    "    units_1 = hp.Int('units_1', min_value=64, max_value=256, step=32)\n",
    "    model.add(Dense(units_1, activation='relu', input_shape=(128,)))\n",
    "    model.add(BatchNormalization())\n",
    "    \n",
    "    dropout_1 = hp.Float('dropout_1', min_value=0.2, max_value=0.5, step=0.1)\n",
    "    model.add(Dropout(dropout_1))\n",
    "\n",
    "    # Lớp Dense thứ hai\n",
    "    units_2 = hp.Int('units_2', min_value=32, max_value=128, step=16)\n",
    "    model.add(Dense(units_2, activation='relu'))\n",
    "\n",
    "    dropout_2 = hp.Float('dropout_2', min_value=0.1, max_value=0.4, step=0.1)\n",
    "    model.add(Dropout(dropout_2))\n",
    "\n",
    "    # Lớp output\n",
    "    model.add(Dense(1, activation='sigmoid'))\n",
    "\n",
    "    # Learning rate\n",
    "    learning_rate = hp.Choice('learning_rate', values=[1e-2, 1e-3, 5e-4])\n",
    "    model.compile(\n",
    "        optimizer=Adam(learning_rate),\n",
    "        loss=BinaryCrossentropy(),\n",
    "        metrics=[AUC(name='auc')]\n",
    "    )\n",
    "\n",
    "    return model\n",
    "\n",
    "def tuner_build_model_5(hp):\n",
    "    model = Sequential()\n",
    "    model.add(Dense(\n",
    "        hp.Int('units_1', 64, 256, step=64),\n",
    "        activation='relu',\n",
    "        input_shape=(128,)\n",
    "    ))\n",
    "    model.add(BatchNormalization())\n",
    "    model.add(Dropout(hp.Float('dropout_1', 0.2, 0.5, step=0.1)))\n",
    "\n",
    "    model.add(Dense(\n",
    "        hp.Int('units_2', 32, 128, step=32),\n",
    "        activation='relu'\n",
    "    ))\n",
    "    model.add(Dropout(hp.Float('dropout_2', 0.0, 0.3, step=0.1)))\n",
    "\n",
    "    model.add(Dense(1, activation='sigmoid'))\n",
    "\n",
    "    model.compile(\n",
    "        optimizer=Adam(hp.Choice('lr', [1e-2, 1e-3, 1e-4])),\n",
    "        loss=BinaryCrossentropy(),\n",
    "        metrics=[AUC(name='auc')]\n",
    "    )\n",
    "    return model"
   ]
  },
  {
   "cell_type": "markdown",
   "id": "0a3af8cd",
   "metadata": {},
   "source": [
    "Map tuner build functions theo top 3 model"
   ]
  },
  {
   "cell_type": "code",
   "execution_count": 145,
   "id": "9630ff58",
   "metadata": {},
   "outputs": [],
   "source": [
    "tuner_builders = [tuner_build_model_2, tuner_build_model_1, tuner_build_model_5]\n",
    "tuner_names = [r['name'] + ' Tuned' for r in top3]"
   ]
  },
  {
   "cell_type": "markdown",
   "id": "b060a825",
   "metadata": {},
   "source": [
    "#### 4. Đánh giá trên valid để chọn mô hình tốt nhất và huấn luyện lại mô hình trên train và valid"
   ]
  },
  {
   "cell_type": "markdown",
   "id": "03763bae",
   "metadata": {},
   "source": [
    "Dự đoán xác suất và nhãn"
   ]
  },
  {
   "cell_type": "code",
   "execution_count": 146,
   "id": "6750a421",
   "metadata": {},
   "outputs": [
    {
     "name": "stdout",
     "output_type": "stream",
     "text": [
      "\n",
      "Fine-tuning Model 2 Tuned ...\n",
      "Reloading Tuner from tuner_dir\\fine_tuning\\tuner0.json\n",
      "Starting hyperparameter search...\n",
      "Best hyperparameters: {'units_1': 96, 'dropout_1': 0.30000000000000004, 'learning_rate': 0.0019001704349157554}\n",
      "Epoch 1/3\n",
      "\u001b[1m32/32\u001b[0m \u001b[32m━━━━━━━━━━━━━━━━━━━━\u001b[0m\u001b[37m\u001b[0m \u001b[1m3s\u001b[0m 4ms/step - auc: 0.8472 - loss: 0.4720\n",
      "Epoch 2/3\n",
      "\u001b[1m32/32\u001b[0m \u001b[32m━━━━━━━━━━━━━━━━━━━━\u001b[0m\u001b[37m\u001b[0m \u001b[1m0s\u001b[0m 4ms/step - auc: 0.9838 - loss: 0.1592\n",
      "Epoch 3/3\n",
      "\u001b[1m32/32\u001b[0m \u001b[32m━━━━━━━━━━━━━━━━━━━━\u001b[0m\u001b[37m\u001b[0m \u001b[1m0s\u001b[0m 5ms/step - auc: 0.9859 - loss: 0.1465\n",
      "Model 2 Tuned final AUC after tuning: 0.9884\n",
      "\n",
      "Fine-tuning Model 1 Tuned ...\n",
      "Reloading Tuner from tuner_dir\\fine_tuning\\tuner0.json\n",
      "Starting hyperparameter search...\n",
      "Best hyperparameters: {'units_1': 96, 'dropout_1': 0.30000000000000004, 'learning_rate': 0.0019001704349157554}\n",
      "Epoch 1/3\n",
      "\u001b[1m32/32\u001b[0m \u001b[32m━━━━━━━━━━━━━━━━━━━━\u001b[0m\u001b[37m\u001b[0m \u001b[1m3s\u001b[0m 4ms/step - auc: 0.9178 - loss: 0.3483\n",
      "Epoch 2/3\n",
      "\u001b[1m32/32\u001b[0m \u001b[32m━━━━━━━━━━━━━━━━━━━━\u001b[0m\u001b[37m\u001b[0m \u001b[1m0s\u001b[0m 4ms/step - auc: 0.9880 - loss: 0.1380\n",
      "Epoch 3/3\n",
      "\u001b[1m32/32\u001b[0m \u001b[32m━━━━━━━━━━━━━━━━━━━━\u001b[0m\u001b[37m\u001b[0m \u001b[1m0s\u001b[0m 5ms/step - auc: 0.9904 - loss: 0.1165\n",
      "Model 1 Tuned final AUC after tuning: 0.9922\n",
      "\n",
      "Fine-tuning Model 5 Tuned ...\n",
      "Reloading Tuner from tuner_dir\\fine_tuning\\tuner0.json\n",
      "Starting hyperparameter search...\n",
      "Best hyperparameters: {'units_1': 96, 'dropout_1': 0.30000000000000004, 'learning_rate': 0.0019001704349157554}\n",
      "Epoch 1/3\n",
      "\u001b[1m32/32\u001b[0m \u001b[32m━━━━━━━━━━━━━━━━━━━━\u001b[0m\u001b[37m\u001b[0m \u001b[1m2s\u001b[0m 6ms/step - auc: 0.9200 - loss: 0.3064\n",
      "Epoch 2/3\n",
      "\u001b[1m32/32\u001b[0m \u001b[32m━━━━━━━━━━━━━━━━━━━━\u001b[0m\u001b[37m\u001b[0m \u001b[1m0s\u001b[0m 4ms/step - auc: 0.9866 - loss: 0.1434\n",
      "Epoch 3/3\n",
      "\u001b[1m32/32\u001b[0m \u001b[32m━━━━━━━━━━━━━━━━━━━━\u001b[0m\u001b[37m\u001b[0m \u001b[1m0s\u001b[0m 5ms/step - auc: 0.9922 - loss: 0.1086\n",
      "Model 5 Tuned final AUC after tuning: 0.9913\n"
     ]
    }
   ],
   "source": [
    "def run_tuner(build_model_fn, X_train, y_train, X_val, y_val, max_trials=10, epochs=3):\n",
    "    tuner = kt.RandomSearch(\n",
    "        build_model_fn,\n",
    "        objective='val_auc',\n",
    "        max_trials=max_trials,\n",
    "        executions_per_trial=20,  # Tăng lên nếu máy đủ mạnh\n",
    "        directory='tuner_dir',\n",
    "        project_name='fine_tuning'\n",
    "    )\n",
    "\n",
    "    # Early stopping để tránh overfitting\n",
    "    early_stop = EarlyStopping(monitor='val_auc', patience=5, mode='max', restore_best_weights=True)\n",
    "\n",
    "    print(\"Starting hyperparameter search...\")\n",
    "    tuner.search(X_train, y_train,\n",
    "                 validation_data=(X_val, y_val),\n",
    "                 epochs=epochs,\n",
    "                 batch_size=32,\n",
    "                 callbacks=[early_stop],\n",
    "                 verbose=1)\n",
    "\n",
    "    best_hp = tuner.get_best_hyperparameters(num_trials=1)[0]\n",
    "    print(f\"Best hyperparameters: {best_hp.values}\")\n",
    "\n",
    "    # Gộp lại tập train và val để huấn luyện mô hình tốt nhất\n",
    "    X_trainval = np.concatenate([X_train, X_val], axis=0)\n",
    "    y_trainval = np.concatenate([y_train, y_val], axis=0)\n",
    "\n",
    "    model = tuner.hypermodel.build(best_hp)\n",
    "    history = model.fit(X_trainval, y_trainval,\n",
    "                        epochs=epochs,\n",
    "                        batch_size=32,\n",
    "                        verbose=1)\n",
    "\n",
    "    return model, history.history.get('auc', [-1])[-1]\n",
    "\n",
    "fine_tune_results = []\n",
    "\n",
    "for build_fn, name in zip(tuner_builders, tuner_names):\n",
    "    print(f\"\\nFine-tuning {name} ...\")\n",
    "    model, val_auc = run_tuner(build_fn, X_train, y_train, X_valid, y_valid,\n",
    "                               max_trials=10, epochs=3)\n",
    "    print(f\"{name} final AUC after tuning: {val_auc:.4f}\")\n",
    "    fine_tune_results.append({'name': name, 'model': model, 'val_auc': val_auc})\n",
    "\n",
    "fine_tune_results = sorted(fine_tune_results, key=lambda x: x['val_auc'], reverse=True)"
   ]
  },
  {
   "cell_type": "markdown",
   "id": "babfd712",
   "metadata": {},
   "source": [
    "Đánh giá các models trước và sau tinh chỉnh"
   ]
  },
  {
   "cell_type": "code",
   "execution_count": 147,
   "id": "0ef1c918",
   "metadata": {},
   "outputs": [
    {
     "data": {
      "image/png": "[encoded data removed]",
      "text/plain": [
       "<Figure size 1200x600 with 1 Axes>"
      ]
     },
     "metadata": {},
     "output_type": "display_data"
    }
   ],
   "source": [
    "# Gộp tất cả kết quả từ model thường và fine-tune\n",
    "all_models = top3 + fine_tune_results\n",
    "\n",
    "names = [m['name'] for m in all_models]\n",
    "auc_scores = [m['val_auc'] for m in all_models]\n",
    "\n",
    "plt.figure(figsize=(12, 6))\n",
    "bars = plt.bar(names, auc_scores, color='#1f77b4', alpha=0.7)\n",
    "\n",
    "for bar, auc in zip(bars, auc_scores):\n",
    "    height = bar.get_height()\n",
    "    plt.text(bar.get_x() + bar.get_width() / 2, height + 0.002,\n",
    "             f'{auc:.4f}', ha='center', va='bottom', fontsize=10)\n",
    "\n",
    "plt.xticks(rotation=45, ha='right')\n",
    "plt.ylim(0.95, 1.0) \n",
    "plt.ylabel('Validation AUC')\n",
    "plt.title('Validation AUC Scores of All Models')\n",
    "plt.grid(axis='y', linestyle='--', alpha=0.5)\n",
    "plt.tight_layout()\n",
    "plt.show()"
   ]
  },
  {
   "cell_type": "markdown",
   "id": "379691b3",
   "metadata": {},
   "source": [
    "**Đánh giá trước và sau tinh chỉnh:**\n",
    "\n",
    "| Mô hình     | AUC trước tinh chỉnh | AUC sau tinh chỉnh | Chênh lệch AUC | Nhận xét                                                                  |\n",
    "| ----------- | -------------------- | ------------------ | -------------- | ------------------------------------------------------------------------- |\n",
    "| **Model 1** | 0.9881               | 0.9922             | **+0.0041**    | 🔼 Cải thiện rõ rệt, mô hình đơn giản hiệu quả cao khi tinh chỉnh tốt.    |\n",
    "| **Model 5** | 0.9881               | 0.9913             | **+0.0032**    | 🔼 Tiến bộ vượt bậc sau tuning, cho thấy tiềm năng cao.                   |\n",
    "| **Model 2** | 0.9889               | 0.9884             | **−0.0005**    | ⚠️ Không cải thiện, thậm chí giảm nhẹ. Có thể cần chiến lược tuning khác. |\n",
    "- Model 1 Tuned là mô hình tốt nhất hiện tại. Với AUC 0.9922, nó vượt trội các mô hình còn lại và cho thấy tuning có hiệu quả mạnh mẽ.\n",
    "\n",
    "- Model 5 Tuned xếp thứ 2 với AUC 0.9913, thể hiện rằng một mô hình đơn giản vẫn có thể mạnh nếu được tinh chỉnh hợp lý.\n",
    "\n",
    "- Model 2 Tuned gây thất vọng nhẹ vì hiệu suất sau tuning lại kém hơn cả trước đó, có thể do overfitting hoặc lựa chọn siêu tham số chưa hợp lý."
   ]
  },
  {
   "cell_type": "code",
   "execution_count": 148,
   "id": "c45b2df1",
   "metadata": {},
   "outputs": [
    {
     "name": "stdout",
     "output_type": "stream",
     "text": [
      "\n",
      "Best fine-tuned model: Model 1 Tuned with val AUC 0.9922\n",
      "\u001b[1m32/32\u001b[0m \u001b[32m━━━━━━━━━━━━━━━━━━━━\u001b[0m\u001b[37m\u001b[0m \u001b[1m0s\u001b[0m 4ms/step - auc: 0.9912 - loss: 0.1241\n"
     ]
    },
    {
     "data": {
      "text/plain": [
       "<keras.src.callbacks.history.History at 0x19ac6c40850>"
      ]
     },
     "execution_count": 148,
     "metadata": {},
     "output_type": "execute_result"
    }
   ],
   "source": [
    "best_model_info = fine_tune_results[0]\n",
    "print(f\"\\nBest fine-tuned model: {best_model_info['name']} with val AUC {best_model_info['val_auc']:.4f}\")\n",
    "\n",
    "X_trainval = np.concatenate([X_train, X_valid], axis=0)\n",
    "y_trainval = np.concatenate([y_train, y_valid], axis=0)\n",
    "\n",
    "# Huấn luyện mô hình tốt nhất\n",
    "best_model_info['model'].fit(X_trainval, y_trainval)"
   ]
  },
  {
   "cell_type": "markdown",
   "id": "02460bc3",
   "metadata": {},
   "source": [
    "### **II. Đánh giá mô hình**"
   ]
  },
  {
   "cell_type": "markdown",
   "id": "9ab566ce",
   "metadata": {},
   "source": [
    "Dự đoán xác suất và nhãn trên tập test"
   ]
  },
  {
   "cell_type": "code",
   "execution_count": 149,
   "id": "3cb11b16",
   "metadata": {},
   "outputs": [
    {
     "name": "stdout",
     "output_type": "stream",
     "text": [
      "\u001b[1m6/6\u001b[0m \u001b[32m━━━━━━━━━━━━━━━━━━━━\u001b[0m\u001b[37m\u001b[0m \u001b[1m0s\u001b[0m 26ms/step\n",
      "Best threshold by ROC: 0.2737\n"
     ]
    }
   ],
   "source": [
    "y_test_proba = best_model_info['model'].predict(X_test).ravel()\n",
    "\n",
    "fpr, tpr, thresholds = roc_curve(y_test, y_test_proba)\n",
    "distance = np.sqrt((1 - tpr)**2 + fpr**2)\n",
    "best_threshold = thresholds[np.argmin(distance)]\n",
    "print(f\"Best threshold by ROC: {best_threshold:.4f}\")\n",
    "\n",
    "y_test_pred = (y_test_proba >= best_threshold).astype(int)"
   ]
  },
  {
   "cell_type": "markdown",
   "id": "744f74ae",
   "metadata": {},
   "source": [
    "Đánh giá mô hình trên tập test"
   ]
  },
  {
   "cell_type": "code",
   "execution_count": 150,
   "id": "01e28dda",
   "metadata": {},
   "outputs": [
    {
     "name": "stdout",
     "output_type": "stream",
     "text": [
      "Accuracy: 0.9555555555555556\n",
      "ROC AUC: 0.99209586945436\n"
     ]
    }
   ],
   "source": [
    "print(\"Accuracy:\", accuracy_score(y_test, y_test_pred))\n",
    "print(\"ROC AUC:\", roc_auc_score(y_test, y_test_proba))"
   ]
  },
  {
   "cell_type": "markdown",
   "id": "489319c8",
   "metadata": {},
   "source": [
    "Trực quan kết quả đánh giá"
   ]
  },
  {
   "cell_type": "code",
   "execution_count": 151,
   "id": "14e5568c",
   "metadata": {},
   "outputs": [
    {
     "data": {
      "image/png": "[encoded data removed]",
      "text/plain": [
       "<Figure size 1800x500 with 3 Axes>"
      ]
     },
     "metadata": {},
     "output_type": "display_data"
    }
   ],
   "source": [
    "# Confusion matrix\n",
    "cm = confusion_matrix(y_test, y_test_pred)\n",
    "\n",
    "# Classification report\n",
    "report = classification_report(y_test, y_test_pred, output_dict=True)\n",
    "\n",
    "# ROC curve\n",
    "fpr, tpr, thresholds = roc_curve(y_test, y_test_proba)\n",
    "roc_auc = roc_auc_score(y_test, y_test_proba)\n",
    "\n",
    "plt.figure(figsize=(18,5))\n",
    "\n",
    "# Confusion Matrix\n",
    "plt.subplot(1, 3, 1)\n",
    "disp = ConfusionMatrixDisplay(confusion_matrix=cm)\n",
    "disp.plot(cmap='Blues', ax=plt.gca(), colorbar=False)\n",
    "plt.title('Confusion Matrix')\n",
    "\n",
    "# Classification Report (dưới dạng heatmap)\n",
    "plt.subplot(1, 3, 2)\n",
    "sns.heatmap(pd.DataFrame(report).iloc[:-1, :].T, annot=True, cmap='Blues', cbar=False)\n",
    "plt.title('Classification Report Metrics')\n",
    "plt.yticks(rotation=0)\n",
    "\n",
    "# ROC Curve\n",
    "plt.subplot(1, 3, 3)\n",
    "plt.plot(fpr, tpr, label=f'AUC = {roc_auc:.4f}')\n",
    "plt.plot([0, 1], [0, 1], 'k--')\n",
    "plt.xlabel('False Positive Rate')\n",
    "plt.ylabel('True Positive Rate (Recall)')\n",
    "plt.title('ROC Curve')\n",
    "plt.legend(loc='lower right')\n",
    "\n",
    "plt.tight_layout()\n",
    "plt.show()"
   ]
  },
  {
   "cell_type": "markdown",
   "id": "7cff868d",
   "metadata": {},
   "source": [
    "**Confusion Matrix (Ma trận nhầm lẫn)**\n",
    "|              | Predicted 0 | Predicted 1 |\n",
    "| ------------ | ----------- | ----------- |\n",
    "| **Actual 0** | 101         | 5           |\n",
    "| **Actual 1** | 3           | 71          |\n",
    "\n",
    "- True Negatives (TN): 101 — Dự đoán đúng nhãn 0.\n",
    "\n",
    "- False Positives (FP): 5 — Dự đoán nhãn 1 nhưng thực tế là nhãn 0.\n",
    "\n",
    "- False Negatives (FN): 3 — Dự đoán nhãn 0 nhưng thực tế là nhãn 1.\n",
    "\n",
    "- True Positives (TP): 71 — Dự đoán đúng nhãn 1.\n",
    "\n",
    "- Mô hình phân loại rất chính xác, với chỉ một vài trường hợp nhầm lẫn nhỏ.\n",
    "\n",
    "**Classification Report Metrics**\n",
    "\n",
    "|                  | Precision | Recall | F1-Score |\n",
    "| ---------------- | --------- | ------ | -------- |\n",
    "| **Class 0**      | 0.97      | 0.95   | 0.96     |\n",
    "| **Class 1**      | 0.93      | 0.96   | 0.95     |\n",
    "| **Accuracy**     | 0.96      | 0.96   | 0.96     |\n",
    "| **Macro avg**    | 0.95      | 0.96   | 0.95     |\n",
    "| **Weighted avg** | 0.96      | 0.96   | 0.96     |\n",
    "\n",
    "- Các chỉ số đều rất cao (> 0.93), cho thấy mô hình hoạt động rất tốt và cân bằng giữa hai lớp.\n",
    "\n",
    "**ROC Curve và AUC**\n",
    "\n",
    "- AUC = 0.9921 (Area Under Curve)\n",
    "\n",
    "- AUC gần bằng 1 thể hiện mô hình có khả năng phân biệt rất tốt giữa hai lớp.\n",
    "\n",
    "- Đường ROC gần sát trục trên và bên trái ⇒ khả năng phân loại rất tốt.\n",
    "\n",
    "**Tổng kết**\n",
    "- Mô hình đang hoạt động rất hiệu quả.\n",
    "\n",
    "- Độ chính xác tổng thể (accuracy): 96%\n",
    "\n",
    "- AUC rất cao (0.9921)\n",
    "\n",
    "- Sự cân bằng tốt giữa precision và recall cho cả hai lớp\n",
    "\n",
    "- Chỉ có một số lỗi nhỏ (5 FP, 3 FN), không ảnh hưởng đáng kể đến hiệu suất tổng thể."
   ]
  },
  {
   "cell_type": "markdown",
   "id": "fd50a8d9",
   "metadata": {},
   "source": [
    "### Dự đoán kết quả của tập test ẩn"
   ]
  },
  {
   "cell_type": "markdown",
   "id": "040b4e60",
   "metadata": {},
   "source": [
    "Ta dự đoán kết quả của tập test ẩn và lưu lại."
   ]
  },
  {
   "cell_type": "code",
   "execution_count": 152,
   "id": "55c723b6",
   "metadata": {},
   "outputs": [
    {
     "name": "stdout",
     "output_type": "stream",
     "text": [
      "\u001b[1m38/38\u001b[0m \u001b[32m━━━━━━━━━━━━━━━━━━━━\u001b[0m\u001b[37m\u001b[0m \u001b[1m0s\u001b[0m 2ms/step \n"
     ]
    }
   ],
   "source": [
    "# Đọc dữ liệu train\n",
    "test_data = load_data('../data/test.json', is_train=False)\n",
    "\n",
    "# Trích đặc trưng test\n",
    "def extract_features_test(records):\n",
    "    X = []\n",
    "    vid_ids = []\n",
    "    for r in records:\n",
    "        avg_emb = r['audio_embedding'].mean(axis=0)\n",
    "        X.append(avg_emb)\n",
    "        vid_ids.append(r['vid_id'])\n",
    "    return np.stack(X), vid_ids\n",
    "\n",
    "X_test_hidden, test_vid_ids = extract_features_test(test_data)\n",
    "\n",
    "# Dự đoán nhãn test\n",
    "y_test_proba = best_model_info['model'].predict(X_test_hidden).ravel()\n",
    "\n",
    "# Tạo DataFrame\n",
    "submission_df = pd.DataFrame({\n",
    "    'vid_id': test_vid_ids,\n",
    "    'is_turkey': y_test_proba\n",
    "})\n",
    "\n",
    "# Lưu file submission\n",
    "submission_df.to_csv('result.csv', index=False)"
   ]
  }
 ],
 "metadata": {
  "kernelspec": {
   "display_name": "ml-env",
   "language": "python",
   "name": "python3"
  },
  "language_info": {
   "codemirror_mode": {
    "name": "ipython",
    "version": 3
   },
   "file_extension": ".py",
   "mimetype": "text/x-python",
   "name": "python",
   "nbconvert_exporter": "python",
   "pygments_lexer": "ipython3",
   "version": "3.11.7"
  }
 },
 "nbformat": 4,
 "nbformat_minor": 5
}
